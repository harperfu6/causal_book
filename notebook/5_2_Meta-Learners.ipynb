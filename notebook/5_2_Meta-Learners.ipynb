{
 "cells": [
  {
   "cell_type": "markdown",
   "id": "measured-profile",
   "metadata": {},
   "source": [
    "Meta-learners (T-Learner, SLearner, X-Learner) による因果推論"
   ]
  },
  {
   "cell_type": "code",
   "execution_count": 11,
   "id": "developing-fleece",
   "metadata": {
    "ExecuteTime": {
     "end_time": "2021-03-14T06:35:02.506206Z",
     "start_time": "2021-03-14T06:35:02.496659Z"
    }
   },
   "outputs": [],
   "source": [
    "# 乱数シード\n",
    "import random\n",
    "import numpy as np\n",
    "\n",
    "np.random.seed(1234)\n",
    "random.seed(1234)\n",
    "\n",
    "\n",
    "# 使用するパッケージ（ライブラリと関数）を定義\n",
    "# 標準正規分布の生成用\n",
    "from numpy.random import *\n",
    "# グラフの描画用\n",
    "import matplotlib.pyplot as plt\n",
    "import japanize_matplotlib\n",
    "\n",
    "# SciPy 平均0、分散1に正規化（標準化）関数\n",
    "import scipy.stats\n",
    "# シグモイド関数をimport\n",
    "from scipy.special import expit\n",
    "# その他\n",
    "import pandas as pd"
   ]
  },
  {
   "cell_type": "markdown",
   "id": "activated-editing",
   "metadata": {},
   "source": [
    "# 自作データの作成"
   ]
  },
  {
   "cell_type": "code",
   "execution_count": 12,
   "id": "wireless-brick",
   "metadata": {
    "ExecuteTime": {
     "end_time": "2021-03-14T06:35:04.776084Z",
     "start_time": "2021-03-14T06:35:04.609775Z"
    },
    "scrolled": true
   },
   "outputs": [
    {
     "data": {
      "text/plain": [
       "Text(0, 0.5, '研修効果の大きさt(x)')"
      ]
     },
     "execution_count": 12,
     "metadata": {},
     "output_type": "execute_result"
    },
    {
     "data": {
      "image/png": "[encoded data removed]",
      "text/plain": [
       "<Figure size 432x288 with 1 Axes>"
      ]
     },
     "metadata": {
      "needs_background": "light"
     },
     "output_type": "display_data"
    }
   ],
   "source": [
    "num_data = 500\n",
    "\n",
    "# 部下育成への熱心さ\n",
    "x = np.random.uniform(low=-1, high=1, size=num_data)\n",
    "\n",
    "# 上司が「研修に参加」したかどうか\n",
    "e_z = randn(num_data)\n",
    "z_prob = expit(5.0*x+5*e_z) # 熱心である程参加しやすい\n",
    "Z = np.array([])\n",
    "\n",
    "for i in range(num_data):\n",
    "    Z_i = np.random.choice(2, size=1, p=[1-z_prob[i], z_prob[i]])[0]\n",
    "    Z = np.append(Z, Z_i)\n",
    "    \n",
    "# 介入効果の「非線形性」: 部下育成の熱心さxの値に応じて\n",
    "# 研修効果は段階的（今回は特に離散的）に変化するとする\n",
    "t = np.zeros(num_data)\n",
    "for i in range(num_data):\n",
    "    if x[i] < 0:\n",
    "        t[i] = 0.5\n",
    "    elif x[i] >= 0 and x[i] < 0.5:\n",
    "        t[i] = 0.7\n",
    "    elif x[i] >= 0.5:\n",
    "        t[i] = 1.0\n",
    "\n",
    "# 部下育成の熱心さに対する研修効果の可視化\n",
    "## 熱心であれば効果が非線形に高くなるとする\n",
    "plt.scatter(x, t )\n",
    "plt.xlabel('部下育成の熱心さ')\n",
    "plt.ylabel('研修効果の大きさt(x)')"
   ]
  },
  {
   "cell_type": "code",
   "execution_count": 13,
   "id": "neither-liechtenstein",
   "metadata": {
    "ExecuteTime": {
     "end_time": "2021-03-14T06:36:02.861116Z",
     "start_time": "2021-03-14T06:36:02.857790Z"
    }
   },
   "outputs": [],
   "source": [
    "# 満足度\n",
    "e_y = randn(num_data)\n",
    "Y = 2.0 + t*Z + 0.3*x + 0.1*e_y"
   ]
  },
  {
   "cell_type": "markdown",
   "id": "rental-cyprus",
   "metadata": {},
   "source": [
    "## 満足度Yの可視化"
   ]
  },
  {
   "cell_type": "code",
   "execution_count": 16,
   "id": "pleased-uncertainty",
   "metadata": {
    "ExecuteTime": {
     "end_time": "2021-03-14T06:37:42.638686Z",
     "start_time": "2021-03-14T06:37:42.634250Z"
    }
   },
   "outputs": [],
   "source": [
    "df = pd.DataFrame({\n",
    "    'x': x,\n",
    "    'Z': Z,\n",
    "    't': t,\n",
    "    'Y': Y,\n",
    "})"
   ]
  },
  {
   "cell_type": "code",
   "execution_count": 17,
   "id": "local-casino",
   "metadata": {
    "ExecuteTime": {
     "end_time": "2021-03-14T06:37:57.288002Z",
     "start_time": "2021-03-14T06:37:57.274696Z"
    }
   },
   "outputs": [
    {
     "data": {
      "text/html": [
       "<div>\n",
       "<style scoped>\n",
       "    .dataframe tbody tr th:only-of-type {\n",
       "        vertical-align: middle;\n",
       "    }\n",
       "\n",
       "    .dataframe tbody tr th {\n",
       "        vertical-align: top;\n",
       "    }\n",
       "\n",
       "    .dataframe thead th {\n",
       "        text-align: right;\n",
       "    }\n",
       "</style>\n",
       "<table border=\"1\" class=\"dataframe\">\n",
       "  <thead>\n",
       "    <tr style=\"text-align: right;\">\n",
       "      <th></th>\n",
       "      <th>x</th>\n",
       "      <th>Z</th>\n",
       "      <th>t</th>\n",
       "      <th>Y</th>\n",
       "    </tr>\n",
       "  </thead>\n",
       "  <tbody>\n",
       "    <tr>\n",
       "      <th>0</th>\n",
       "      <td>-0.616961</td>\n",
       "      <td>0.0</td>\n",
       "      <td>0.5</td>\n",
       "      <td>1.803183</td>\n",
       "    </tr>\n",
       "    <tr>\n",
       "      <th>1</th>\n",
       "      <td>0.244218</td>\n",
       "      <td>1.0</td>\n",
       "      <td>0.7</td>\n",
       "      <td>2.668873</td>\n",
       "    </tr>\n",
       "    <tr>\n",
       "      <th>2</th>\n",
       "      <td>-0.124545</td>\n",
       "      <td>0.0</td>\n",
       "      <td>0.5</td>\n",
       "      <td>2.193123</td>\n",
       "    </tr>\n",
       "    <tr>\n",
       "      <th>3</th>\n",
       "      <td>0.570717</td>\n",
       "      <td>1.0</td>\n",
       "      <td>1.0</td>\n",
       "      <td>3.245229</td>\n",
       "    </tr>\n",
       "    <tr>\n",
       "      <th>4</th>\n",
       "      <td>0.559952</td>\n",
       "      <td>1.0</td>\n",
       "      <td>1.0</td>\n",
       "      <td>3.139868</td>\n",
       "    </tr>\n",
       "  </tbody>\n",
       "</table>\n",
       "</div>"
      ],
      "text/plain": [
       "          x    Z    t         Y\n",
       "0 -0.616961  0.0  0.5  1.803183\n",
       "1  0.244218  1.0  0.7  2.668873\n",
       "2 -0.124545  0.0  0.5  2.193123\n",
       "3  0.570717  1.0  1.0  3.245229\n",
       "4  0.559952  1.0  1.0  3.139868"
      ]
     },
     "execution_count": 17,
     "metadata": {},
     "output_type": "execute_result"
    }
   ],
   "source": [
    "df.head()"
   ]
  },
  {
   "cell_type": "code",
   "execution_count": 18,
   "id": "unauthorized-norfolk",
   "metadata": {
    "ExecuteTime": {
     "end_time": "2021-03-14T06:38:34.573781Z",
     "start_time": "2021-03-14T06:38:34.425256Z"
    }
   },
   "outputs": [
    {
     "data": {
      "text/plain": [
       "Text(0, 0.5, '面談の満足度Y')"
      ]
     },
     "execution_count": 18,
     "metadata": {},
     "output_type": "execute_result"
    },
    {
     "data": {
      "image/png": "[encoded data removed]",
      "text/plain": [
       "<Figure size 432x288 with 1 Axes>"
      ]
     },
     "metadata": {
      "needs_background": "light"
     },
     "output_type": "display_data"
    }
   ],
   "source": [
    "plt.scatter(x, Y)\n",
    "plt.xlabel('部下育成の熱心さ')\n",
    "plt.ylabel('面談の満足度Y')"
   ]
  },
  {
   "cell_type": "markdown",
   "id": "selective-average",
   "metadata": {},
   "source": [
    "# T-Learner"
   ]
  },
  {
   "cell_type": "markdown",
   "id": "detected-italic",
   "metadata": {},
   "source": [
    "TはTwoの意で，2つの機械学習モデルを使う"
   ]
  },
  {
   "cell_type": "markdown",
   "id": "trained-effect",
   "metadata": {},
   "source": [
    "2つは，\n",
    "- 介入を受けた集団（Z=0）\n",
    "- 介入を受けていない集団（Z=1）"
   ]
  },
  {
   "cell_type": "code",
   "execution_count": 19,
   "id": "allied-chester",
   "metadata": {
    "ExecuteTime": {
     "end_time": "2021-03-14T06:44:40.267241Z",
     "start_time": "2021-03-14T06:44:40.257216Z"
    }
   },
   "outputs": [],
   "source": [
    "# 集団を2つに分ける\n",
    "df_0 = df[df.Z == 0.0]\n",
    "df_1 = df[df.Z == 1.0]"
   ]
  },
  {
   "cell_type": "code",
   "execution_count": 20,
   "id": "banner-platinum",
   "metadata": {
    "ExecuteTime": {
     "end_time": "2021-03-14T06:50:08.115272Z",
     "start_time": "2021-03-14T06:50:07.906884Z"
    }
   },
   "outputs": [
    {
     "name": "stderr",
     "output_type": "stream",
     "text": [
      "<ipython-input-20-03462fb1e144>:6: DataConversionWarning: A column-vector y was passed when a 1d array was expected. Please change the shape of y to (n_samples,), for example using ravel().\n",
      "  reg_0.fit(df_0[['x']], df_0[['Y']])\n",
      "<ipython-input-20-03462fb1e144>:10: DataConversionWarning: A column-vector y was passed when a 1d array was expected. Please change the shape of y to (n_samples,), for example using ravel().\n",
      "  reg_1.fit(df_1[['x']], df_1[['Y']])\n"
     ]
    },
    {
     "data": {
      "text/plain": [
       "RandomForestRegressor(max_depth=3)"
      ]
     },
     "execution_count": 20,
     "metadata": {},
     "output_type": "execute_result"
    }
   ],
   "source": [
    "# ランダムフォレストモデル\n",
    "from sklearn.ensemble import RandomForestRegressor\n",
    "\n",
    "# 介入を受けていないモデル\n",
    "reg_0 = RandomForestRegressor(max_depth=3)\n",
    "reg_0.fit(df_0[['x']], df_0[['Y']])\n",
    "\n",
    "# 介入を受けたモデル\n",
    "reg_1 = RandomForestRegressor(max_depth=3)\n",
    "reg_1.fit(df_1[['x']], df_1[['Y']])"
   ]
  },
  {
   "cell_type": "markdown",
   "id": "sacred-criminal",
   "metadata": {},
   "source": [
    "## ATE"
   ]
  },
  {
   "cell_type": "code",
   "execution_count": 21,
   "id": "accepting-mercury",
   "metadata": {
    "ExecuteTime": {
     "end_time": "2021-03-14T06:51:24.853830Z",
     "start_time": "2021-03-14T06:51:24.819610Z"
    }
   },
   "outputs": [
    {
     "name": "stdout",
     "output_type": "stream",
     "text": [
      "ATE:  0.6678485877933638\n"
     ]
    }
   ],
   "source": [
    "mu_0 = reg_0.predict(df[['x']])\n",
    "mu_1 = reg_1.predict(df[['x']])\n",
    "\n",
    "ATE = (mu_1-mu_0).mean()\n",
    "print('ATE: ', ATE)"
   ]
  },
  {
   "cell_type": "code",
   "execution_count": 22,
   "id": "capable-basis",
   "metadata": {
    "ExecuteTime": {
     "end_time": "2021-03-14T06:54:23.433079Z",
     "start_time": "2021-03-14T06:54:23.400552Z"
    }
   },
   "outputs": [
    {
     "name": "stdout",
     "output_type": "stream",
     "text": [
      "ATT:  0.7338369884256869\n",
      "ATU:  0.6090862934128768\n"
     ]
    }
   ],
   "source": [
    "# 処置群における平均処置効果ATTと\n",
    "# 対照群における平均処置効果ATU\n",
    "ATT = df_1['Y'] - reg_0.predict(df_1[['x']])\n",
    "ATU = reg_1.predict(df_0[['x']]) - df_0['Y']\n",
    "\n",
    "print('ATT: ', ATT.mean())\n",
    "print('ATU: ', ATU.mean())"
   ]
  },
  {
   "cell_type": "markdown",
   "id": "ceramic-triple",
   "metadata": {},
   "source": [
    "## 推定された処置効果を各人ごとに求める"
   ]
  },
  {
   "cell_type": "code",
   "execution_count": 24,
   "id": "fresh-avatar",
   "metadata": {
    "ExecuteTime": {
     "end_time": "2021-03-14T07:00:05.540892Z",
     "start_time": "2021-03-14T07:00:05.375762Z"
    }
   },
   "outputs": [
    {
     "data": {
      "text/plain": [
       "[<matplotlib.lines.Line2D at 0x167c79670>]"
      ]
     },
     "execution_count": 24,
     "metadata": {},
     "output_type": "execute_result"
    },
    {
     "data": {
      "image/png": "[encoded data removed]",
      "text/plain": [
       "<Figure size 432x288 with 1 Axes>"
      ]
     },
     "metadata": {
      "needs_background": "light"
     },
     "output_type": "display_data"
    }
   ],
   "source": [
    "t_estimated = reg_1.predict(df[['x']]) - reg_0.predict(df[['x']])\n",
    "plt.scatter(df[['x']], t_estimated)\n",
    "plt.xlabel('部下育成の熱心さ')\n",
    "plt.ylabel('推定された研修効果の大きさt_estimated(x)')\n",
    "\n",
    "\n",
    "# 正解のグラフを重畳\n",
    "x_index = np.arange(-1, 1, 0.01)\n",
    "t_ans = np.zeros(len(x_index))\n",
    "for i in range(len(x_index)):\n",
    "    if x_index[i] < 0:\n",
    "        t_ans[i] = 0.5\n",
    "    elif x_index[i] >= 0 and x_index[i] < 0.5:\n",
    "        t_ans[i] = 0.7\n",
    "    elif x_index[i] >= 0.5:\n",
    "        t_ans[i] = 1.0\n",
    "        \n",
    "plt.plot(x_index, t_ans, color='black', ls='--', label='Baseline')"
   ]
  },
  {
   "cell_type": "markdown",
   "id": "awful-declaration",
   "metadata": {},
   "source": [
    "正解である破線に対して，正しく介入効果を推定できていることがわかる"
   ]
  },
  {
   "cell_type": "code",
   "execution_count": null,
   "id": "honey-chain",
   "metadata": {},
   "outputs": [],
   "source": []
  },
  {
   "cell_type": "markdown",
   "id": "residential-residence",
   "metadata": {},
   "source": [
    "# S-Learner"
   ]
  },
  {
   "cell_type": "markdown",
   "id": "varying-greenhouse",
   "metadata": {},
   "source": [
    "SはSingle. モデルは1つであり，介入変数Zも説明変数の中に入れる．"
   ]
  },
  {
   "cell_type": "markdown",
   "id": "guided-industry",
   "metadata": {},
   "source": [
    "今回モデルはランダムフォレストを使うが，別モデルでも良い．"
   ]
  },
  {
   "cell_type": "code",
   "execution_count": 25,
   "id": "brutal-snake",
   "metadata": {
    "ExecuteTime": {
     "end_time": "2021-03-14T07:09:00.258487Z",
     "start_time": "2021-03-14T07:09:00.118508Z"
    }
   },
   "outputs": [
    {
     "name": "stderr",
     "output_type": "stream",
     "text": [
      "<ipython-input-25-0c79f6199100>:7: DataConversionWarning: A column-vector y was passed when a 1d array was expected. Please change the shape of y to (n_samples,), for example using ravel().\n",
      "  reg.fit(X, df[['Y']])\n"
     ]
    },
    {
     "data": {
      "text/plain": [
       "RandomForestRegressor(max_depth=4)"
      ]
     },
     "execution_count": 25,
     "metadata": {},
     "output_type": "execute_result"
    }
   ],
   "source": [
    "# ランダムフォレストモデルを作成\n",
    "from sklearn.ensemble import RandomForestRegressor\n",
    "\n",
    "# モデルを学習\n",
    "reg = RandomForestRegressor(max_depth=4)\n",
    "X = df.loc[:, ['x', 'Z']]\n",
    "reg.fit(X, df[['Y']])"
   ]
  },
  {
   "cell_type": "markdown",
   "id": "municipal-orchestra",
   "metadata": {},
   "source": [
    "## ATE"
   ]
  },
  {
   "cell_type": "code",
   "execution_count": 27,
   "id": "improving-protein",
   "metadata": {
    "ExecuteTime": {
     "end_time": "2021-03-14T07:12:39.469902Z",
     "start_time": "2021-03-14T07:12:39.434812Z"
    }
   },
   "outputs": [
    {
     "name": "stdout",
     "output_type": "stream",
     "text": [
      "ATE:  0.667734812161322\n"
     ]
    }
   ],
   "source": [
    "# 処置が0/1の状態を作成する\n",
    "X_0 = X.copy()\n",
    "X_0['Z'] = 0.0\n",
    "\n",
    "X_1 = X.copy()\n",
    "X_1['Z'] = 1.0\n",
    "\n",
    "# ATE\n",
    "ATE = (reg.predict(X_1)-reg.predict(X_0)).mean()\n",
    "print('ATE: ', ATE)"
   ]
  },
  {
   "cell_type": "markdown",
   "id": "british-warning",
   "metadata": {},
   "source": [
    "## 推定された処置効果を各人ごとに求める"
   ]
  },
  {
   "cell_type": "code",
   "execution_count": 29,
   "id": "accepted-violence",
   "metadata": {
    "ExecuteTime": {
     "end_time": "2021-03-14T07:14:06.212594Z",
     "start_time": "2021-03-14T07:14:05.993487Z"
    }
   },
   "outputs": [
    {
     "data": {
      "text/plain": [
       "[<matplotlib.lines.Line2D at 0x168cc3b50>]"
      ]
     },
     "execution_count": 29,
     "metadata": {},
     "output_type": "execute_result"
    },
    {
     "data": {
      "image/png": "[encoded data removed]",
      "text/plain": [
       "<Figure size 432x288 with 1 Axes>"
      ]
     },
     "metadata": {
      "needs_background": "light"
     },
     "output_type": "display_data"
    }
   ],
   "source": [
    "# 推定された治療効果を各人ごとに求めます\n",
    "t_estimated = reg.predict(X_1)-reg.predict(X_0)\n",
    "plt.scatter(df[['x']], t_estimated)\n",
    "plt.xlabel('部下育成の熱心さ')\n",
    "plt.ylabel('推定された研修効果の大きさt_estimated(x)')\n",
    "\n",
    "# 正解を描画\n",
    "plt.plot(x_index, t_ans, color='black', ls='--', label='Baseline')"
   ]
  },
  {
   "cell_type": "markdown",
   "id": "auburn-distribution",
   "metadata": {},
   "source": [
    "# X-Learner"
   ]
  },
  {
   "cell_type": "markdown",
   "id": "opened-latex",
   "metadata": {},
   "source": [
    "T-Learnerを「傾向スコア」を使ってさらに補正する．  \n",
    "特に，T-Leanerでは介入あり/なしで明確にユーザが分類されてしまうので，傾向スコアを使って自分のデータ「ではない方」のモデルの重みを強くすることで，全体としてのモデルの精度を向上させようという試み．"
   ]
  },
  {
   "cell_type": "code",
   "execution_count": 30,
   "id": "former-valuation",
   "metadata": {
    "ExecuteTime": {
     "end_time": "2021-03-14T07:23:12.753709Z",
     "start_time": "2021-03-14T07:23:12.542505Z"
    }
   },
   "outputs": [
    {
     "data": {
      "text/plain": [
       "RandomForestRegressor(max_depth=3)"
      ]
     },
     "execution_count": 30,
     "metadata": {},
     "output_type": "execute_result"
    }
   ],
   "source": [
    "# T-LearnerでM0/M1（介入あり/なしに対するモデル）を求める\n",
    "from sklearn.ensemble import RandomForestRegressor\n",
    "\n",
    "# 集団を2つに分ける\n",
    "df_0 = df[df.Z == 0.0]\n",
    "df_1 = df[df.Z == 1.0]\n",
    "\n",
    "# 介入を受けていないモデル\n",
    "M0 = RandomForestRegressor(max_depth=3)\n",
    "M0.fit(df_0[['x']], df_0['Y'])\n",
    "\n",
    "# 介入を受けているモデル\n",
    "M1 = RandomForestRegressor(max_depth=3)\n",
    "M1.fit(df_1[['x']], df_1['Y'])"
   ]
  },
  {
   "cell_type": "code",
   "execution_count": 31,
   "id": "inner-deployment",
   "metadata": {
    "ExecuteTime": {
     "end_time": "2021-03-14T07:27:40.297933Z",
     "start_time": "2021-03-14T07:27:40.066294Z"
    }
   },
   "outputs": [
    {
     "data": {
      "text/plain": [
       "RandomForestRegressor(max_depth=3)"
      ]
     },
     "execution_count": 31,
     "metadata": {},
     "output_type": "execute_result"
    }
   ],
   "source": [
    "# 推定された介入効果を各人ごとに求める\n",
    "# T-LearnerでいうATU/ATTだが，後続でここにモデルを入れる\n",
    "tau_0 = M1.predict(df_0[['x']]) - df_0['Y'] # （仮の）ATU\n",
    "tau_1 = df_1['Y'] - M0.predict(df_1[['x']]) #（仮の）ATT\n",
    "\n",
    "# ATTとATUを求めるモデルを作成する\n",
    "M2 = RandomForestRegressor(max_depth=3)\n",
    "M2.fit(df_0[['x']], tau_0)\n",
    "\n",
    "M3 = RandomForestRegressor(max_depth=3)\n",
    "M3.fit(df_1[['x']], tau_1)"
   ]
  },
  {
   "cell_type": "code",
   "execution_count": 32,
   "id": "seasonal-stretch",
   "metadata": {
    "ExecuteTime": {
     "end_time": "2021-03-14T07:31:12.205831Z",
     "start_time": "2021-03-14T07:31:12.155045Z"
    }
   },
   "outputs": [],
   "source": [
    "# 傾向スコア（介入に対する傾向）の算出\n",
    "from sklearn.linear_model import LogisticRegression\n",
    "\n",
    "# 説明変数\n",
    "X = df[['x']]\n",
    "\n",
    "# 目的変数\n",
    "Z = df['Z']\n",
    "\n",
    "# 回帰の実施\n",
    "g_x = LogisticRegression().fit(X, Z)\n",
    "g_x_val = g_x.predict_proba(X)\n",
    "\n",
    "# それぞれのモデルで全データの効果を予測し，\n",
    "# 傾向スコアで調整\n",
    "tau = g_x_val[:, 1]*M2.predict(df[['x']]) + g_x_val[:, 0]*M3.predict(df[['x']])"
   ]
  },
  {
   "cell_type": "code",
   "execution_count": 33,
   "id": "alleged-message",
   "metadata": {
    "ExecuteTime": {
     "end_time": "2021-03-14T07:32:32.723657Z",
     "start_time": "2021-03-14T07:32:32.574050Z"
    }
   },
   "outputs": [
    {
     "data": {
      "text/plain": [
       "[<matplotlib.lines.Line2D at 0x1667d6640>]"
      ]
     },
     "execution_count": 33,
     "metadata": {},
     "output_type": "execute_result"
    },
    {
     "data": {
      "image/png": "[encoded data removed]",
      "text/plain": [
       "<Figure size 432x288 with 1 Axes>"
      ]
     },
     "metadata": {
      "needs_background": "light"
     },
     "output_type": "display_data"
    }
   ],
   "source": [
    "# 推定された介入効果を各人ごとに求める\n",
    "plt.scatter(df[[\"x\"]], tau)\n",
    "plt.xlabel('部下育成の熱心さ')\n",
    "plt.ylabel('推定された研修効果の大きさt_estimated(x)')\n",
    "\n",
    "# 正解を描画\n",
    "plt.plot(x_index, t_ans, color='black', ls='--', label='Baseline')"
   ]
  },
  {
   "cell_type": "code",
   "execution_count": null,
   "id": "preceding-scene",
   "metadata": {},
   "outputs": [],
   "source": []
  },
  {
   "cell_type": "code",
   "execution_count": null,
   "id": "figured-words",
   "metadata": {},
   "outputs": [],
   "source": []
  }
 ],
 "metadata": {
  "kernelspec": {
   "display_name": "Python 3",
   "language": "python",
   "name": "python3"
  },
  "language_info": {
   "codemirror_mode": {
    "name": "ipython",
    "version": 3
   },
   "file_extension": ".py",
   "mimetype": "text/x-python",
   "name": "python",
   "nbconvert_exporter": "python",
   "pygments_lexer": "ipython3",
   "version": "3.9.1"
  },
  "toc": {
   "base_numbering": 1,
   "nav_menu": {},
   "number_sections": true,
   "sideBar": true,
   "skip_h1_title": false,
   "title_cell": "Table of Contents",
   "title_sidebar": "Contents",
   "toc_cell": false,
   "toc_position": {},
   "toc_section_display": true,
   "toc_window_display": true
  }
 },
 "nbformat": 4,
 "nbformat_minor": 5
}
