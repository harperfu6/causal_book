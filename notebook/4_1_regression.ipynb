{
 "cells": [
  {
   "cell_type": "markdown",
   "id": "plastic-andorra",
   "metadata": {},
   "source": [
    "回帰分析（入力変数を与えたときの出力変数値を求めるモデル）による因果推論"
   ]
  },
  {
   "cell_type": "markdown",
   "id": "million-playback",
   "metadata": {},
   "source": [
    "回帰モデルの出力変数には因果効果が表れる変数（結果変数）を使用する．  \n",
    "結果変数がカテゴリ変数である場合は，ロジスティック回帰を使用する．"
   ]
  },
  {
   "cell_type": "markdown",
   "id": "european-compression",
   "metadata": {},
   "source": [
    "モデルの入力変数は観測可能な全変数ではなく，バックドアパスを閉じるように因果ダイアグラムをd分離した後に残っている変数のみを使用する（d分離）．"
   ]
  },
  {
   "cell_type": "markdown",
   "id": "rocky-absence",
   "metadata": {},
   "source": [
    "テレビCMの広告効果の推定を例に実装  \n",
    "よってCMをみたかどうかがZ（原因変数）"
   ]
  },
  {
   "cell_type": "markdown",
   "id": "fantastic-wales",
   "metadata": {},
   "source": [
    "結果変数Yは購入量とする"
   ]
  },
  {
   "cell_type": "markdown",
   "id": "based-stress",
   "metadata": {},
   "source": [
    "入力変数について，変数Zと変数Yの間に擬似相関を生む交絡因子（共通因子）を共変量として使う．"
   ]
  },
  {
   "cell_type": "code",
   "execution_count": null,
   "id": "senior-greensboro",
   "metadata": {},
   "outputs": [],
   "source": []
  },
  {
   "cell_type": "code",
   "execution_count": 1,
   "id": "republican-sensitivity",
   "metadata": {
    "ExecuteTime": {
     "end_time": "2021-03-10T05:52:24.241088Z",
     "start_time": "2021-03-10T05:52:24.071329Z"
    }
   },
   "outputs": [],
   "source": [
    "# 乱数シード\n",
    "import random\n",
    "import numpy as np\n",
    "\n",
    "np.random.seed(1234)\n",
    "random.seed(1234)"
   ]
  },
  {
   "cell_type": "code",
   "execution_count": 3,
   "id": "excited-black",
   "metadata": {
    "ExecuteTime": {
     "end_time": "2021-03-10T05:54:26.771550Z",
     "start_time": "2021-03-10T05:54:24.469405Z"
    }
   },
   "outputs": [],
   "source": [
    "# 標準正規分布の生成用\n",
    "from numpy.random import *\n",
    "# 正規化関数\n",
    "import scipy.stats\n",
    "# シグモイド関数\n",
    "from scipy.special import expit\n",
    "\n",
    "\n",
    "import pandas as pd \n",
    "import matplotlib.pyplot as plt"
   ]
  },
  {
   "cell_type": "markdown",
   "id": "special-pillow",
   "metadata": {},
   "source": [
    "# 自前でデータ作成"
   ]
  },
  {
   "cell_type": "code",
   "execution_count": 7,
   "id": "domestic-brown",
   "metadata": {
    "ExecuteTime": {
     "end_time": "2021-03-10T23:51:16.199332Z",
     "start_time": "2021-03-10T23:51:16.195451Z"
    }
   },
   "outputs": [],
   "source": [
    "num_data = 200"
   ]
  },
  {
   "cell_type": "markdown",
   "id": "ruled-method",
   "metadata": {},
   "source": [
    "入力変数には，d分離した後で因果ダイアグラムに残っている変数を使う．これはd分離後残っている変数はバックドアパスを生むため，線形回帰で閉じる必要がある．"
   ]
  },
  {
   "cell_type": "markdown",
   "id": "common-bundle",
   "metadata": {},
   "source": [
    "## 性別，年齢"
   ]
  },
  {
   "cell_type": "code",
   "execution_count": 6,
   "id": "horizontal-coalition",
   "metadata": {
    "ExecuteTime": {
     "end_time": "2021-03-10T23:50:57.322798Z",
     "start_time": "2021-03-10T23:50:57.312788Z"
    }
   },
   "outputs": [],
   "source": [
    "#一様乱数\n",
    "# age\n",
    "x_1 = randint(15, 76, num_data) \n",
    "# 性別（0: 女性，1: 男性）\n",
    "x_2 = randint(0, 2, num_data)"
   ]
  },
  {
   "cell_type": "markdown",
   "id": "backed-infection",
   "metadata": {},
   "source": [
    "## テレビCMをみたか"
   ]
  },
  {
   "cell_type": "code",
   "execution_count": 13,
   "id": "narrative-russia",
   "metadata": {
    "ExecuteTime": {
     "end_time": "2021-03-11T00:14:46.627106Z",
     "start_time": "2021-03-11T00:14:46.608592Z"
    }
   },
   "outputs": [],
   "source": [
    "# ノイズの生成\n",
    "e_z = randn(num_data)\n",
    "\n",
    "# シグモイド関数に入れる線形関数・・・（1）\n",
    "z_base = x_1 + (1 - x_2)*10 - 40 + 5*e_z\n",
    "\n",
    "# シグモイド関数の計算\n",
    "z_prob = expit(0.1*z_base)\n",
    "\n",
    "# テレビCMを見たかどうか（0: 見ていない，1: 見た）\n",
    "Z = np.array([])\n",
    "\n",
    "# （1）より年配の女性の方が見やすくなる\n",
    "for i in range(num_data):\n",
    "    Z_i = np.random.choice(2, size=1, p=[1-z_prob[i], z_prob[i]])[0]\n",
    "    Z = np.append(Z, Z_i)"
   ]
  },
  {
   "cell_type": "markdown",
   "id": "naughty-dialogue",
   "metadata": {},
   "source": [
    "## 購入量Y"
   ]
  },
  {
   "cell_type": "code",
   "execution_count": 14,
   "id": "boring-teach",
   "metadata": {
    "ExecuteTime": {
     "end_time": "2021-03-11T00:16:28.003141Z",
     "start_time": "2021-03-11T00:16:27.998568Z"
    }
   },
   "outputs": [],
   "source": [
    "# ノイズの生成\n",
    "e_y = randn(num_data)\n",
    "\n",
    "# 若年層で，男性で，テレビを見ていると購入が多くなる\n",
    "Y = -x_1 + 30*x_2 + 10*Z + 80 + 10*e_y "
   ]
  },
  {
   "cell_type": "markdown",
   "id": "powered-assumption",
   "metadata": {},
   "source": [
    "# 作成データ"
   ]
  },
  {
   "cell_type": "code",
   "execution_count": 15,
   "id": "detailed-aspect",
   "metadata": {
    "ExecuteTime": {
     "end_time": "2021-03-13T01:18:42.954083Z",
     "start_time": "2021-03-13T01:18:42.903877Z"
    }
   },
   "outputs": [],
   "source": [
    "df = pd.DataFrame({\n",
    "    'age': x_1,\n",
    "    'sex': x_2,\n",
    "    'cm': Z,\n",
    "    'amount': Y\n",
    "})"
   ]
  },
  {
   "cell_type": "code",
   "execution_count": 16,
   "id": "welcome-joshua",
   "metadata": {
    "ExecuteTime": {
     "end_time": "2021-03-13T01:18:48.724250Z",
     "start_time": "2021-03-13T01:18:48.656750Z"
    }
   },
   "outputs": [
    {
     "data": {
      "text/html": [
       "<div>\n",
       "<style scoped>\n",
       "    .dataframe tbody tr th:only-of-type {\n",
       "        vertical-align: middle;\n",
       "    }\n",
       "\n",
       "    .dataframe tbody tr th {\n",
       "        vertical-align: top;\n",
       "    }\n",
       "\n",
       "    .dataframe thead th {\n",
       "        text-align: right;\n",
       "    }\n",
       "</style>\n",
       "<table border=\"1\" class=\"dataframe\">\n",
       "  <thead>\n",
       "    <tr style=\"text-align: right;\">\n",
       "      <th></th>\n",
       "      <th>age</th>\n",
       "      <th>sex</th>\n",
       "      <th>cm</th>\n",
       "      <th>amount</th>\n",
       "    </tr>\n",
       "  </thead>\n",
       "  <tbody>\n",
       "    <tr>\n",
       "      <th>0</th>\n",
       "      <td>61</td>\n",
       "      <td>1</td>\n",
       "      <td>1.0</td>\n",
       "      <td>60.624920</td>\n",
       "    </tr>\n",
       "    <tr>\n",
       "      <th>1</th>\n",
       "      <td>26</td>\n",
       "      <td>0</td>\n",
       "      <td>0.0</td>\n",
       "      <td>48.618056</td>\n",
       "    </tr>\n",
       "    <tr>\n",
       "      <th>2</th>\n",
       "      <td>21</td>\n",
       "      <td>0</td>\n",
       "      <td>1.0</td>\n",
       "      <td>70.781316</td>\n",
       "    </tr>\n",
       "    <tr>\n",
       "      <th>3</th>\n",
       "      <td>38</td>\n",
       "      <td>1</td>\n",
       "      <td>1.0</td>\n",
       "      <td>85.292791</td>\n",
       "    </tr>\n",
       "    <tr>\n",
       "      <th>4</th>\n",
       "      <td>33</td>\n",
       "      <td>1</td>\n",
       "      <td>1.0</td>\n",
       "      <td>86.680170</td>\n",
       "    </tr>\n",
       "  </tbody>\n",
       "</table>\n",
       "</div>"
      ],
      "text/plain": [
       "   age  sex   cm     amount\n",
       "0   61    1  1.0  60.624920\n",
       "1   26    0  0.0  48.618056\n",
       "2   21    0  1.0  70.781316\n",
       "3   38    1  1.0  85.292791\n",
       "4   33    1  1.0  86.680170"
      ]
     },
     "execution_count": 16,
     "metadata": {},
     "output_type": "execute_result"
    }
   ],
   "source": [
    "df.head()"
   ]
  },
  {
   "cell_type": "markdown",
   "id": "incorrect-decision",
   "metadata": {},
   "source": [
    "## CM別平均"
   ]
  },
  {
   "cell_type": "code",
   "execution_count": 17,
   "id": "charming-discharge",
   "metadata": {
    "ExecuteTime": {
     "end_time": "2021-03-13T01:21:17.659654Z",
     "start_time": "2021-03-13T01:21:17.634196Z"
    }
   },
   "outputs": [
    {
     "name": "stdout",
     "output_type": "stream",
     "text": [
      "age       53.259259\n",
      "sex        0.577778\n",
      "cm         1.000000\n",
      "amount    53.988896\n",
      "dtype: float64\n",
      "------\n",
      "age       32.600000\n",
      "sex        0.600000\n",
      "cm         0.000000\n",
      "amount    65.327939\n",
      "dtype: float64\n"
     ]
    }
   ],
   "source": [
    "print(df[df['cm']==1.0].mean())\n",
    "print('------')\n",
    "print(df[df['cm']==0.0].mean())"
   ]
  },
  {
   "cell_type": "markdown",
   "id": "political-daily",
   "metadata": {},
   "source": [
    "# 回帰分析"
   ]
  },
  {
   "cell_type": "code",
   "execution_count": 18,
   "id": "devoted-matrix",
   "metadata": {
    "ExecuteTime": {
     "end_time": "2021-03-13T01:23:06.026836Z",
     "start_time": "2021-03-13T01:23:06.002448Z"
    }
   },
   "outputs": [
    {
     "name": "stdout",
     "output_type": "stream",
     "text": [
      "coef:  [-1.05642502 30.53240429 11.16441373]\n"
     ]
    }
   ],
   "source": [
    "from sklearn.linear_model import LinearRegression\n",
    "\n",
    "# 説明変数\n",
    "X = df[['age', 'sex', 'cm']]\n",
    "\n",
    "# 目的変数\n",
    "y = df['amount']\n",
    "\n",
    "# 回帰\n",
    "reg = LinearRegression().fit(X, y)\n",
    "\n",
    "# 回帰の係数\n",
    "print('coef: ', reg.coef_)"
   ]
  },
  {
   "cell_type": "markdown",
   "id": "sensitive-cradle",
   "metadata": {},
   "source": [
    "CMを見たことによる購入量の増加は11.1と推定されるため，CMの介入効果は11.1となる（ちなみに本例は自作データなのでその係数に近くなる）"
   ]
  },
  {
   "cell_type": "markdown",
   "id": "rising-times",
   "metadata": {},
   "source": [
    "ATE, ATT, ATUは  \n",
    "回帰モデルなのでZの係数そのまま11.1"
   ]
  },
  {
   "cell_type": "code",
   "execution_count": null,
   "id": "elder-jenny",
   "metadata": {},
   "outputs": [],
   "source": []
  },
  {
   "cell_type": "code",
   "execution_count": null,
   "id": "former-irrigation",
   "metadata": {},
   "outputs": [],
   "source": []
  },
  {
   "cell_type": "code",
   "execution_count": null,
   "id": "ready-crime",
   "metadata": {},
   "outputs": [],
   "source": []
  }
 ],
 "metadata": {
  "kernelspec": {
   "display_name": "Python 3",
   "language": "python",
   "name": "python3"
  },
  "language_info": {
   "codemirror_mode": {
    "name": "ipython",
    "version": 3
   },
   "file_extension": ".py",
   "mimetype": "text/x-python",
   "name": "python",
   "nbconvert_exporter": "python",
   "pygments_lexer": "ipython3",
   "version": "3.9.1"
  },
  "toc": {
   "base_numbering": 1,
   "nav_menu": {},
   "number_sections": true,
   "sideBar": true,
   "skip_h1_title": false,
   "title_cell": "Table of Contents",
   "title_sidebar": "Contents",
   "toc_cell": false,
   "toc_position": {},
   "toc_section_display": true,
   "toc_window_display": true
  }
 },
 "nbformat": 4,
 "nbformat_minor": 5
}
