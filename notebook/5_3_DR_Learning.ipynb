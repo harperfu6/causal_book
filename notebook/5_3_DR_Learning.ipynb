{
 "cells": [
  {
   "cell_type": "markdown",
   "id": "activated-transcript",
   "metadata": {},
   "source": [
    "Doubly Robust Learningによる因果推論"
   ]
  },
  {
   "cell_type": "markdown",
   "id": "monetary-print",
   "metadata": {},
   "source": [
    "DR法に対し，反実仮想を想定することに変わりはないが，Z=1とみなしたときのYには個別誤差が乗っているので，それを極力緩和したい，という発想．"
   ]
  },
  {
   "cell_type": "code",
   "execution_count": 1,
   "id": "polish-solomon",
   "metadata": {
    "ExecuteTime": {
     "end_time": "2021-03-14T07:47:34.688115Z",
     "start_time": "2021-03-14T07:47:33.311950Z"
    }
   },
   "outputs": [],
   "source": [
    "# 乱数シード\n",
    "import random\n",
    "import numpy as np\n",
    "\n",
    "np.random.seed(1234)\n",
    "random.seed(1234)\n",
    "\n",
    "\n",
    "# 使用するパッケージ（ライブラリと関数）を定義\n",
    "# 標準正規分布の生成用\n",
    "from numpy.random import *\n",
    "# グラフの描画用\n",
    "import matplotlib.pyplot as plt\n",
    "import japanize_matplotlib\n",
    "\n",
    "# SciPy 平均0、分散1に正規化（標準化）関数\n",
    "import scipy.stats\n",
    "# シグモイド関数をimport\n",
    "from scipy.special import expit\n",
    "# その他\n",
    "import pandas as pd"
   ]
  },
  {
   "cell_type": "markdown",
   "id": "active-smooth",
   "metadata": {},
   "source": [
    "# 自作データの作成"
   ]
  },
  {
   "cell_type": "code",
   "execution_count": 2,
   "id": "earned-holiday",
   "metadata": {
    "ExecuteTime": {
     "end_time": "2021-03-14T07:52:20.144493Z",
     "start_time": "2021-03-14T07:52:19.899864Z"
    }
   },
   "outputs": [
    {
     "data": {
      "text/plain": [
       "Text(0, 0.5, '研修効果の大きさt(x)')"
      ]
     },
     "execution_count": 2,
     "metadata": {},
     "output_type": "execute_result"
    },
    {
     "data": {
      "image/png": "[encoded data removed]",
      "text/plain": [
       "<Figure size 432x288 with 1 Axes>"
      ]
     },
     "metadata": {
      "needs_background": "light"
     },
     "output_type": "display_data"
    }
   ],
   "source": [
    "num_data = 500\n",
    "\n",
    "# 部下育成への熱心さ\n",
    "x = np.random.uniform(low=-1, high=1, size=num_data)\n",
    "\n",
    "# 上司が「研修に参加」したかどうか\n",
    "e_z = randn(num_data)\n",
    "z_prob = expit(5.0*x+5*e_z) # 熱心である程参加しやすい\n",
    "Z = np.array([])\n",
    "\n",
    "for i in range(num_data):\n",
    "    Z_i = np.random.choice(2, size=1, p=[1-z_prob[i], z_prob[i]])[0]\n",
    "    Z = np.append(Z, Z_i)\n",
    "    \n",
    "# 介入効果の「非線形性」: 部下育成の熱心さxの値に応じて\n",
    "# 研修効果は段階的（今回は特に離散的）に変化するとする\n",
    "t = np.zeros(num_data)\n",
    "for i in range(num_data):\n",
    "    if x[i] < 0:\n",
    "        t[i] = 0.5\n",
    "    elif x[i] >= 0 and x[i] < 0.5:\n",
    "        t[i] = 0.7\n",
    "    elif x[i] >= 0.5:\n",
    "        t[i] = 1.0\n",
    "\n",
    "# 部下育成の熱心さに対する研修効果の可視化\n",
    "## 熱心であれば効果が非線形に高くなるとする\n",
    "plt.scatter(x, t )\n",
    "plt.xlabel('部下育成の熱心さ')\n",
    "plt.ylabel('研修効果の大きさt(x)')"
   ]
  },
  {
   "cell_type": "code",
   "execution_count": 3,
   "id": "sought-subscriber",
   "metadata": {
    "ExecuteTime": {
     "end_time": "2021-03-14T07:52:37.943438Z",
     "start_time": "2021-03-14T07:52:37.939961Z"
    }
   },
   "outputs": [],
   "source": [
    "# 満足度\n",
    "e_y = randn(num_data)\n",
    "Y = 2.0 + t*Z + 0.3*x + 0.1*e_y"
   ]
  },
  {
   "cell_type": "markdown",
   "id": "drawn-teacher",
   "metadata": {},
   "source": [
    "## 満足度Yの可視化"
   ]
  },
  {
   "cell_type": "code",
   "execution_count": 4,
   "id": "turkish-mystery",
   "metadata": {
    "ExecuteTime": {
     "end_time": "2021-03-14T07:52:57.829402Z",
     "start_time": "2021-03-14T07:52:57.824806Z"
    }
   },
   "outputs": [],
   "source": [
    "df = pd.DataFrame({\n",
    "    'x': x,\n",
    "    'Z': Z,\n",
    "    't': t,\n",
    "    'Y': Y,\n",
    "})"
   ]
  },
  {
   "cell_type": "code",
   "execution_count": 5,
   "id": "standing-income",
   "metadata": {
    "ExecuteTime": {
     "end_time": "2021-03-14T07:53:00.460548Z",
     "start_time": "2021-03-14T07:53:00.445383Z"
    }
   },
   "outputs": [
    {
     "data": {
      "text/html": [
       "<div>\n",
       "<style scoped>\n",
       "    .dataframe tbody tr th:only-of-type {\n",
       "        vertical-align: middle;\n",
       "    }\n",
       "\n",
       "    .dataframe tbody tr th {\n",
       "        vertical-align: top;\n",
       "    }\n",
       "\n",
       "    .dataframe thead th {\n",
       "        text-align: right;\n",
       "    }\n",
       "</style>\n",
       "<table border=\"1\" class=\"dataframe\">\n",
       "  <thead>\n",
       "    <tr style=\"text-align: right;\">\n",
       "      <th></th>\n",
       "      <th>x</th>\n",
       "      <th>Z</th>\n",
       "      <th>t</th>\n",
       "      <th>Y</th>\n",
       "    </tr>\n",
       "  </thead>\n",
       "  <tbody>\n",
       "    <tr>\n",
       "      <th>0</th>\n",
       "      <td>-0.616961</td>\n",
       "      <td>0.0</td>\n",
       "      <td>0.5</td>\n",
       "      <td>1.803183</td>\n",
       "    </tr>\n",
       "    <tr>\n",
       "      <th>1</th>\n",
       "      <td>0.244218</td>\n",
       "      <td>1.0</td>\n",
       "      <td>0.7</td>\n",
       "      <td>2.668873</td>\n",
       "    </tr>\n",
       "    <tr>\n",
       "      <th>2</th>\n",
       "      <td>-0.124545</td>\n",
       "      <td>0.0</td>\n",
       "      <td>0.5</td>\n",
       "      <td>2.193123</td>\n",
       "    </tr>\n",
       "    <tr>\n",
       "      <th>3</th>\n",
       "      <td>0.570717</td>\n",
       "      <td>1.0</td>\n",
       "      <td>1.0</td>\n",
       "      <td>3.245229</td>\n",
       "    </tr>\n",
       "    <tr>\n",
       "      <th>4</th>\n",
       "      <td>0.559952</td>\n",
       "      <td>1.0</td>\n",
       "      <td>1.0</td>\n",
       "      <td>3.139868</td>\n",
       "    </tr>\n",
       "  </tbody>\n",
       "</table>\n",
       "</div>"
      ],
      "text/plain": [
       "          x    Z    t         Y\n",
       "0 -0.616961  0.0  0.5  1.803183\n",
       "1  0.244218  1.0  0.7  2.668873\n",
       "2 -0.124545  0.0  0.5  2.193123\n",
       "3  0.570717  1.0  1.0  3.245229\n",
       "4  0.559952  1.0  1.0  3.139868"
      ]
     },
     "execution_count": 5,
     "metadata": {},
     "output_type": "execute_result"
    }
   ],
   "source": [
    "df.head()"
   ]
  },
  {
   "cell_type": "code",
   "execution_count": 6,
   "id": "threatened-sender",
   "metadata": {
    "ExecuteTime": {
     "end_time": "2021-03-14T07:53:10.165938Z",
     "start_time": "2021-03-14T07:53:10.023437Z"
    }
   },
   "outputs": [
    {
     "data": {
      "text/plain": [
       "<matplotlib.collections.PathCollection at 0x1621b9250>"
      ]
     },
     "execution_count": 6,
     "metadata": {},
     "output_type": "execute_result"
    },
    {
     "data": {
      "image/png": "[encoded data removed]",
      "text/plain": [
       "<Figure size 432x288 with 1 Axes>"
      ]
     },
     "metadata": {
      "needs_background": "light"
     },
     "output_type": "display_data"
    }
   ],
   "source": [
    "plt.scatter(x, Y)"
   ]
  },
  {
   "cell_type": "markdown",
   "id": "blank-extra",
   "metadata": {},
   "source": [
    "# DR-Learner"
   ]
  },
  {
   "cell_type": "markdown",
   "id": "working-opera",
   "metadata": {},
   "source": [
    "## まずはT-Learner"
   ]
  },
  {
   "cell_type": "code",
   "execution_count": 7,
   "id": "closed-valley",
   "metadata": {
    "ExecuteTime": {
     "end_time": "2021-03-14T07:54:29.181339Z",
     "start_time": "2021-03-14T07:54:28.536923Z"
    }
   },
   "outputs": [
    {
     "name": "stderr",
     "output_type": "stream",
     "text": [
      "<ipython-input-7-bb3821e6ba86>:10: DataConversionWarning: A column-vector y was passed when a 1d array was expected. Please change the shape of y to (n_samples,), for example using ravel().\n",
      "  M_0.fit(df_0[[\"x\"]], df_0[[\"Y\"]])\n",
      "<ipython-input-7-bb3821e6ba86>:14: DataConversionWarning: A column-vector y was passed when a 1d array was expected. Please change the shape of y to (n_samples,), for example using ravel().\n",
      "  M_1.fit(df_1[[\"x\"]], df_1[[\"Y\"]])\n"
     ]
    },
    {
     "data": {
      "text/plain": [
       "RandomForestRegressor(max_depth=3)"
      ]
     },
     "execution_count": 7,
     "metadata": {},
     "output_type": "execute_result"
    }
   ],
   "source": [
    "# ランダムフォレストモデルを作成\n",
    "from sklearn.ensemble import RandomForestRegressor\n",
    "\n",
    "# 集団を2つに分ける\n",
    "df_0 = df[df.Z == 0.0]  # 介入を受けていない集団\n",
    "df_1 = df[df.Z == 1.0]  # 介入を受けた集団\n",
    "\n",
    "# 介入を受けていないモデル\n",
    "M_0 = RandomForestRegressor(max_depth=3)\n",
    "M_0.fit(df_0[[\"x\"]], df_0[[\"Y\"]])\n",
    "\n",
    "# 介入を受けたモデル\n",
    "M_1 = RandomForestRegressor(max_depth=3)\n",
    "M_1.fit(df_1[[\"x\"]], df_1[[\"Y\"]])"
   ]
  },
  {
   "cell_type": "markdown",
   "id": "sixth-marketing",
   "metadata": {},
   "source": [
    "## 傾向スコアの算出"
   ]
  },
  {
   "cell_type": "code",
   "execution_count": 8,
   "id": "polyphonic-amsterdam",
   "metadata": {
    "ExecuteTime": {
     "end_time": "2021-03-14T07:55:10.860104Z",
     "start_time": "2021-03-14T07:55:10.846580Z"
    }
   },
   "outputs": [],
   "source": [
    "from sklearn.linear_model import LogisticRegression\n",
    "\n",
    "# 説明変数\n",
    "X = df[[\"x\"]]\n",
    "\n",
    "# 目的変数\n",
    "Z = df[\"Z\"]\n",
    "\n",
    "# 回帰の実施\n",
    "g_x = LogisticRegression().fit(X, Z)\n",
    "g_x_val = g_x.predict_proba(X)"
   ]
  },
  {
   "cell_type": "markdown",
   "id": "contemporary-editing",
   "metadata": {},
   "source": [
    "## DR法に基づく推定"
   ]
  },
  {
   "cell_type": "markdown",
   "id": "temporal-capacity",
   "metadata": {},
   "source": [
    "ITE: Individual Treatment Effect"
   ]
  },
  {
   "cell_type": "code",
   "execution_count": 12,
   "id": "respected-shareware",
   "metadata": {
    "ExecuteTime": {
     "end_time": "2021-03-14T08:03:31.765700Z",
     "start_time": "2021-03-14T08:03:31.677143Z"
    }
   },
   "outputs": [
    {
     "name": "stderr",
     "output_type": "stream",
     "text": [
      "<ipython-input-12-4d252c195375>:4: SettingWithCopyWarning: \n",
      "A value is trying to be set on a copy of a slice from a DataFrame.\n",
      "Try using .loc[row_indexer,col_indexer] = value instead\n",
      "\n",
      "See the caveats in the documentation: https://pandas.pydata.org/pandas-docs/stable/user_guide/indexing.html#returning-a-view-versus-a-copy\n",
      "  df_1[\"ITE\"] = Y_1 - M_0.predict(df_1[['x']])\n",
      "<ipython-input-12-4d252c195375>:9: SettingWithCopyWarning: \n",
      "A value is trying to be set on a copy of a slice from a DataFrame.\n",
      "Try using .loc[row_indexer,col_indexer] = value instead\n",
      "\n",
      "See the caveats in the documentation: https://pandas.pydata.org/pandas-docs/stable/user_guide/indexing.html#returning-a-view-versus-a-copy\n",
      "  df_0[\"ITE\"] = M_1.predict(df_0[['x']]) - Y_0\n"
     ]
    },
    {
     "data": {
      "text/html": [
       "<div>\n",
       "<style scoped>\n",
       "    .dataframe tbody tr th:only-of-type {\n",
       "        vertical-align: middle;\n",
       "    }\n",
       "\n",
       "    .dataframe tbody tr th {\n",
       "        vertical-align: top;\n",
       "    }\n",
       "\n",
       "    .dataframe thead th {\n",
       "        text-align: right;\n",
       "    }\n",
       "</style>\n",
       "<table border=\"1\" class=\"dataframe\">\n",
       "  <thead>\n",
       "    <tr style=\"text-align: right;\">\n",
       "      <th></th>\n",
       "      <th>x</th>\n",
       "      <th>Z</th>\n",
       "      <th>t</th>\n",
       "      <th>Y</th>\n",
       "      <th>ITE</th>\n",
       "    </tr>\n",
       "  </thead>\n",
       "  <tbody>\n",
       "    <tr>\n",
       "      <th>0</th>\n",
       "      <td>-0.616961</td>\n",
       "      <td>0.0</td>\n",
       "      <td>0.5</td>\n",
       "      <td>1.803183</td>\n",
       "      <td>0.514190</td>\n",
       "    </tr>\n",
       "    <tr>\n",
       "      <th>2</th>\n",
       "      <td>-0.124545</td>\n",
       "      <td>0.0</td>\n",
       "      <td>0.5</td>\n",
       "      <td>2.193123</td>\n",
       "      <td>0.081865</td>\n",
       "    </tr>\n",
       "    <tr>\n",
       "      <th>5</th>\n",
       "      <td>-0.454815</td>\n",
       "      <td>0.0</td>\n",
       "      <td>0.5</td>\n",
       "      <td>1.973293</td>\n",
       "      <td>0.333970</td>\n",
       "    </tr>\n",
       "    <tr>\n",
       "      <th>6</th>\n",
       "      <td>-0.447071</td>\n",
       "      <td>0.0</td>\n",
       "      <td>0.5</td>\n",
       "      <td>1.953387</td>\n",
       "      <td>0.364906</td>\n",
       "    </tr>\n",
       "    <tr>\n",
       "      <th>9</th>\n",
       "      <td>0.751865</td>\n",
       "      <td>0.0</td>\n",
       "      <td>1.0</td>\n",
       "      <td>2.289369</td>\n",
       "      <td>0.776072</td>\n",
       "    </tr>\n",
       "  </tbody>\n",
       "</table>\n",
       "</div>"
      ],
      "text/plain": [
       "          x    Z    t         Y       ITE\n",
       "0 -0.616961  0.0  0.5  1.803183  0.514190\n",
       "2 -0.124545  0.0  0.5  2.193123  0.081865\n",
       "5 -0.454815  0.0  0.5  1.973293  0.333970\n",
       "6 -0.447071  0.0  0.5  1.953387  0.364906\n",
       "9  0.751865  0.0  1.0  2.289369  0.776072"
      ]
     },
     "execution_count": 12,
     "metadata": {},
     "output_type": "execute_result"
    }
   ],
   "source": [
    "# 処置群\n",
    "Y_1 = M_1.predict(df_1[['x']]) + \\\n",
    "    (df_1['Y'] - M_1.predict(df_1[['x']])) / g_x.predict_proba(df_1[['x']])[:, 1] # [:, 1]はZ=1の確率kk\n",
    "df_1[\"ITE\"] = Y_1 - M_0.predict(df_1[['x']])\n",
    "\n",
    "# 非処置群\n",
    "Y_0 = M_0.predict(df_0[['x']]) + \\\n",
    "    (df_0['Y'] - M_0.predict(df_0[['x']])) / g_x.predict_proba(df_0[['x']])[:, 0] # [:, 0]はZ=0の確率kk\n",
    "df_0[\"ITE\"] = M_1.predict(df_0[['x']]) - Y_0\n",
    "\n",
    "# 結合\n",
    "df_DR = pd.concat([df_0, df_1])\n",
    "df_DR.head()"
   ]
  },
  {
   "cell_type": "markdown",
   "id": "dressed-rehabilitation",
   "metadata": {},
   "source": [
    "## モデルM_DRの構築"
   ]
  },
  {
   "cell_type": "code",
   "execution_count": 13,
   "id": "raised-robinson",
   "metadata": {
    "ExecuteTime": {
     "end_time": "2021-03-14T08:05:21.010135Z",
     "start_time": "2021-03-14T08:05:20.748499Z"
    }
   },
   "outputs": [
    {
     "name": "stderr",
     "output_type": "stream",
     "text": [
      "<ipython-input-13-7f38a5da3505>:2: DataConversionWarning: A column-vector y was passed when a 1d array was expected. Please change the shape of y to (n_samples,), for example using ravel().\n",
      "  M_DR.fit(df_DR[['x']], df_DR[['ITE']])\n"
     ]
    },
    {
     "data": {
      "text/plain": [
       "[<matplotlib.lines.Line2D at 0x16512d040>]"
      ]
     },
     "execution_count": 13,
     "metadata": {},
     "output_type": "execute_result"
    },
    {
     "data": {
      "image/png": "[encoded data removed]",
      "text/plain": [
       "<Figure size 432x288 with 1 Axes>"
      ]
     },
     "metadata": {
      "needs_background": "light"
     },
     "output_type": "display_data"
    }
   ],
   "source": [
    "M_DR = RandomForestRegressor(max_depth=3)\n",
    "M_DR.fit(df_DR[['x']], df_DR[['ITE']])\n",
    "\n",
    "# 推定された介入効果を各人ごとに求める\n",
    "t_estimated = M_DR.predict(df_DR[['x']])\n",
    "\n",
    "plt.scatter(df_DR[['x']], t_estimated)\n",
    "plt.xlabel('部下育成の熱心さ')\n",
    "plt.ylabel('推定された研修効果の大きさt_estimated(x)')\n",
    "\n",
    "\n",
    "# 正解のグラフを重畳\n",
    "x_index = np.arange(-1, 1, 0.01)\n",
    "t_ans = np.zeros(len(x_index))\n",
    "for i in range(len(x_index)):\n",
    "    if x_index[i] < 0:\n",
    "        t_ans[i] = 0.5\n",
    "    elif x_index[i] >= 0 and x_index[i] < 0.5:\n",
    "        t_ans[i] = 0.7\n",
    "    elif x_index[i] >= 0.5:\n",
    "        t_ans[i] = 1.0\n",
    "        \n",
    "plt.plot(x_index, t_ans, color='black', ls='--', label='Baseline')"
   ]
  },
  {
   "cell_type": "code",
   "execution_count": null,
   "id": "recreational-smile",
   "metadata": {},
   "outputs": [],
   "source": []
  },
  {
   "cell_type": "code",
   "execution_count": null,
   "id": "promotional-infection",
   "metadata": {},
   "outputs": [],
   "source": []
  },
  {
   "cell_type": "code",
   "execution_count": null,
   "id": "smaller-malta",
   "metadata": {},
   "outputs": [],
   "source": []
  }
 ],
 "metadata": {
  "kernelspec": {
   "display_name": "Python 3",
   "language": "python",
   "name": "python3"
  },
  "language_info": {
   "codemirror_mode": {
    "name": "ipython",
    "version": 3
   },
   "file_extension": ".py",
   "mimetype": "text/x-python",
   "name": "python",
   "nbconvert_exporter": "python",
   "pygments_lexer": "ipython3",
   "version": "3.9.1"
  },
  "toc": {
   "base_numbering": 1,
   "nav_menu": {},
   "number_sections": true,
   "sideBar": true,
   "skip_h1_title": false,
   "title_cell": "Table of Contents",
   "title_sidebar": "Contents",
   "toc_cell": false,
   "toc_position": {},
   "toc_section_display": true,
   "toc_window_display": true
  }
 },
 "nbformat": 4,
 "nbformat_minor": 5
}
