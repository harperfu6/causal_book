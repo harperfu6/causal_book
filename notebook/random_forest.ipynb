{
 "cells": [
  {
   "cell_type": "markdown",
   "id": "smooth-peoples",
   "metadata": {},
   "source": [
    "ランダムフォレストによる因果推論"
   ]
  },
  {
   "cell_type": "markdown",
   "id": "partial-gregory",
   "metadata": {},
   "source": [
    "これまで線形和の関係性のみを扱っていたが，機械学習による推論部分についてひ"
   ]
  },
  {
   "cell_type": "code",
   "execution_count": null,
   "id": "fancy-cambridge",
   "metadata": {},
   "outputs": [],
   "source": []
  },
  {
   "cell_type": "markdown",
   "id": "municipal-teacher",
   "metadata": {},
   "source": [
    "# 自前データの作成"
   ]
  },
  {
   "cell_type": "code",
   "execution_count": 1,
   "id": "bronze-timer",
   "metadata": {
    "ExecuteTime": {
     "end_time": "2021-03-14T01:57:33.188575Z",
     "start_time": "2021-03-14T01:57:32.203058Z"
    }
   },
   "outputs": [],
   "source": [
    "# 乱数シード\n",
    "import random\n",
    "import numpy as np\n",
    "\n",
    "np.random.seed(1234)\n",
    "random.seed(1234)\n",
    "\n",
    "\n",
    "# 使用するパッケージ（ライブラリと関数）を定義\n",
    "# 標準正規分布の生成用\n",
    "from numpy.random import *\n",
    "# グラフの描画用\n",
    "import matplotlib.pyplot as plt\n",
    "# SciPy 平均0、分散1に正規化（標準化）関数\n",
    "import scipy.stats\n",
    "# シグモイド関数をimport\n",
    "from scipy.special import expit\n",
    "# その他\n",
    "import pandas as pd\n",
    "\n",
    "\n",
    "# サンプル数\n",
    "num_data = 200\n",
    "\n",
    "# 性別 / 年齢（一様分布）\n",
    "# age\n",
    "x_1 = randint(15, 76, num_data) \n",
    "# 性別（0: 女性，1: 男性）\n",
    "x_2 = randint(0, 2, num_data)\n",
    "\n",
    "\n",
    "# テレビCMをみたかどうか\n",
    "# ノイズの生成\n",
    "e_z = randn(num_data)\n",
    "# シグモイド関数に入れる線形関数・・・（1）\n",
    "z_base = x_1 + (1 - x_2)*10 - 40 + 5*e_z\n",
    "# シグモイド関数の計算\n",
    "z_prob = expit(0.1*z_base)\n",
    "# テレビCMを見たかどうか（0: 見ていない，1: 見た）\n",
    "Z = np.array([])\n",
    "# （1）より年配の女性の方が見やすくなる\n",
    "for i in range(num_data):\n",
    "    Z_i = np.random.choice(2, size=1, p=[1-z_prob[i], z_prob[i]])[0]\n",
    "    Z = np.append(Z, Z_i)\n",
    "    \n",
    "\n",
    "# 購入量Y\n",
    "# ノイズの生成\n",
    "e_y = randn(num_data)\n",
    "# 若年層で，男性で，テレビを見ていると購入が多くなる\n",
    "Y = -x_1 + 30*x_2 + 10*Z + 80 + 10*e_y "
   ]
  },
  {
   "cell_type": "markdown",
   "id": "brazilian-tribe",
   "metadata": {},
   "source": [
    "# 作成データ"
   ]
  },
  {
   "cell_type": "code",
   "execution_count": 2,
   "id": "narrative-technique",
   "metadata": {
    "ExecuteTime": {
     "end_time": "2021-03-14T01:57:55.532550Z",
     "start_time": "2021-03-14T01:57:55.528566Z"
    }
   },
   "outputs": [],
   "source": [
    "df = pd.DataFrame({\n",
    "    'age': x_1,\n",
    "    'sex': x_2,\n",
    "    'cm': Z,\n",
    "    'amount': Y\n",
    "})"
   ]
  },
  {
   "cell_type": "code",
   "execution_count": 3,
   "id": "collected-first",
   "metadata": {
    "ExecuteTime": {
     "end_time": "2021-03-14T01:58:05.256900Z",
     "start_time": "2021-03-14T01:58:05.242051Z"
    }
   },
   "outputs": [
    {
     "data": {
      "text/html": [
       "<div>\n",
       "<style scoped>\n",
       "    .dataframe tbody tr th:only-of-type {\n",
       "        vertical-align: middle;\n",
       "    }\n",
       "\n",
       "    .dataframe tbody tr th {\n",
       "        vertical-align: top;\n",
       "    }\n",
       "\n",
       "    .dataframe thead th {\n",
       "        text-align: right;\n",
       "    }\n",
       "</style>\n",
       "<table border=\"1\" class=\"dataframe\">\n",
       "  <thead>\n",
       "    <tr style=\"text-align: right;\">\n",
       "      <th></th>\n",
       "      <th>age</th>\n",
       "      <th>sex</th>\n",
       "      <th>cm</th>\n",
       "      <th>amount</th>\n",
       "    </tr>\n",
       "  </thead>\n",
       "  <tbody>\n",
       "    <tr>\n",
       "      <th>0</th>\n",
       "      <td>62</td>\n",
       "      <td>0</td>\n",
       "      <td>1.0</td>\n",
       "      <td>24.464285</td>\n",
       "    </tr>\n",
       "    <tr>\n",
       "      <th>1</th>\n",
       "      <td>34</td>\n",
       "      <td>0</td>\n",
       "      <td>0.0</td>\n",
       "      <td>45.693411</td>\n",
       "    </tr>\n",
       "    <tr>\n",
       "      <th>2</th>\n",
       "      <td>53</td>\n",
       "      <td>1</td>\n",
       "      <td>1.0</td>\n",
       "      <td>64.998281</td>\n",
       "    </tr>\n",
       "    <tr>\n",
       "      <th>3</th>\n",
       "      <td>68</td>\n",
       "      <td>1</td>\n",
       "      <td>1.0</td>\n",
       "      <td>47.186898</td>\n",
       "    </tr>\n",
       "    <tr>\n",
       "      <th>4</th>\n",
       "      <td>27</td>\n",
       "      <td>1</td>\n",
       "      <td>0.0</td>\n",
       "      <td>100.114260</td>\n",
       "    </tr>\n",
       "  </tbody>\n",
       "</table>\n",
       "</div>"
      ],
      "text/plain": [
       "   age  sex   cm      amount\n",
       "0   62    0  1.0   24.464285\n",
       "1   34    0  0.0   45.693411\n",
       "2   53    1  1.0   64.998281\n",
       "3   68    1  1.0   47.186898\n",
       "4   27    1  0.0  100.114260"
      ]
     },
     "execution_count": 3,
     "metadata": {},
     "output_type": "execute_result"
    }
   ],
   "source": [
    "df.head()"
   ]
  },
  {
   "cell_type": "markdown",
   "id": "adjacent-panel",
   "metadata": {},
   "source": [
    "## CM別平均"
   ]
  },
  {
   "cell_type": "code",
   "execution_count": 4,
   "id": "spoken-florist",
   "metadata": {
    "ExecuteTime": {
     "end_time": "2021-03-14T01:58:23.483260Z",
     "start_time": "2021-03-14T01:58:23.470708Z"
    }
   },
   "outputs": [
    {
     "name": "stdout",
     "output_type": "stream",
     "text": [
      "age       55.836066\n",
      "sex        0.483607\n",
      "cm         1.000000\n",
      "amount    49.711478\n",
      "dtype: float64\n",
      "------\n",
      "age       32.141026\n",
      "sex        0.692308\n",
      "cm         0.000000\n",
      "amount    68.827143\n",
      "dtype: float64\n"
     ]
    }
   ],
   "source": [
    "print(df[df['cm']==1.0].mean())\n",
    "print('------')\n",
    "print(df[df['cm']==0.0].mean())"
   ]
  },
  {
   "cell_type": "markdown",
   "id": "aging-spanking",
   "metadata": {},
   "source": [
    "# 決定木による分類"
   ]
  },
  {
   "cell_type": "markdown",
   "id": "conscious-skirt",
   "metadata": {},
   "source": [
    "決定木でCMを見たかどうかを分類予測するモデルを作成する"
   ]
  },
  {
   "cell_type": "code",
   "execution_count": 6,
   "id": "exceptional-belize",
   "metadata": {
    "ExecuteTime": {
     "end_time": "2021-03-14T02:03:08.554350Z",
     "start_time": "2021-03-14T02:03:08.527024Z"
    },
    "scrolled": true
   },
   "outputs": [
    {
     "name": "stdout",
     "output_type": "stream",
     "text": [
      "深さ1の性能: 0.85\n",
      "深さ2の性能: 0.85\n",
      "深さ3の性能: 0.825\n"
     ]
    }
   ],
   "source": [
    "from sklearn.tree import DecisionTreeClassifier\n",
    "from sklearn.model_selection import train_test_split\n",
    "\n",
    "# 説明変数\n",
    "X = df[['age', 'sex']]\n",
    "\n",
    "# 目的変数\n",
    "Z = df['cm']\n",
    "\n",
    "# train / test\n",
    "X_train, X_val, Z_train, Z_val = train_test_split(X, Z, train_size=0.6, random_state=0)\n",
    "\n",
    "# 学習と性能確認\n",
    "clf = DecisionTreeClassifier(max_depth=1, random_state=0)\n",
    "clf.fit(X_train, Z_train)\n",
    "print('深さ1の性能:', clf.score(X_val, Z_val)) # 正解率\n",
    "clf = DecisionTreeClassifier(max_depth=2, random_state=0)\n",
    "clf.fit(X_train, Z_train)\n",
    "print('深さ2の性能:', clf.score(X_val, Z_val)) # 正解率\n",
    "clf = DecisionTreeClassifier(max_depth=3, random_state=0)\n",
    "clf.fit(X_train, Z_train)\n",
    "print('深さ3の性能:', clf.score(X_val, Z_val)) # 正解率"
   ]
  },
  {
   "cell_type": "markdown",
   "id": "significant-compound",
   "metadata": {},
   "source": [
    "# 決定木による回帰"
   ]
  },
  {
   "cell_type": "markdown",
   "id": "mounted-poetry",
   "metadata": {},
   "source": [
    "決定木で購入量を回帰予測するモデルを作成する"
   ]
  },
  {
   "cell_type": "code",
   "execution_count": 11,
   "id": "fresh-pipeline",
   "metadata": {
    "ExecuteTime": {
     "end_time": "2021-03-14T02:07:34.098563Z",
     "start_time": "2021-03-14T02:07:34.067733Z"
    }
   },
   "outputs": [
    {
     "name": "stdout",
     "output_type": "stream",
     "text": [
      "深さ1の性能: 0.7257496664596153\n",
      "深さ2の性能: 0.7399348963931736\n",
      "深さ3の性能: 0.7165539691159017\n"
     ]
    }
   ],
   "source": [
    "from sklearn.tree import DecisionTreeRegressor\n",
    "from sklearn.model_selection import train_test_split\n",
    "\n",
    "# 説明変数\n",
    "X = df[['age', 'sex']]\n",
    "\n",
    "# 目的変数\n",
    "Y = df['amount']\n",
    "\n",
    "# train / test\n",
    "X_train, X_val, Y_train, Y_val = train_test_split(X, Y, train_size=0.6, random_state=0)\n",
    "\n",
    "# 学習と性能確認\n",
    "reg = DecisionTreeRegressor(max_depth=2, random_state=0)\n",
    "reg.fit(X_train, Y_train)\n",
    "print('深さ1の性能:', reg.score(X_val, Y_val)) # 決定係数R\n",
    "reg = DecisionTreeRegressor(max_depth=3, random_state=0)\n",
    "reg.fit(X_train, Y_train)\n",
    "print('深さ2の性能:', reg.score(X_val, Y_val)) # 決定係数R\n",
    "reg = DecisionTreeRegressor(max_depth=4, random_state=0)\n",
    "reg.fit(X_train, Y_train)\n",
    "print('深さ3の性能:', reg.score(X_val, Y_val)) # 決定係数R"
   ]
  },
  {
   "cell_type": "markdown",
   "id": "orange-dating",
   "metadata": {},
   "source": [
    "# ランダムフォレストによる分類"
   ]
  },
  {
   "cell_type": "markdown",
   "id": "successful-cover",
   "metadata": {},
   "source": [
    "ランダムフォレスト でCMを見たかどうかを分類予測するモデルを作成する"
   ]
  },
  {
   "cell_type": "code",
   "execution_count": 13,
   "id": "virtual-armstrong",
   "metadata": {
    "ExecuteTime": {
     "end_time": "2021-03-14T02:09:13.462788Z",
     "start_time": "2021-03-14T02:09:12.990197Z"
    },
    "scrolled": true
   },
   "outputs": [
    {
     "name": "stdout",
     "output_type": "stream",
     "text": [
      "深さ1の性能: 0.775\n",
      "深さ2の性能: 0.85\n",
      "深さ3の性能: 0.825\n"
     ]
    }
   ],
   "source": [
    "from sklearn.ensemble import RandomForestClassifier\n",
    "from sklearn.model_selection import train_test_split\n",
    "\n",
    "# 説明変数\n",
    "X = df[['age', 'sex']]\n",
    "\n",
    "# 目的変数\n",
    "Z = df['cm']\n",
    "\n",
    "# train / test\n",
    "X_train, X_val, Z_train, Z_val = train_test_split(X, Z, train_size=0.6, random_state=0)\n",
    "\n",
    "# 学習と性能確認\n",
    "clf = RandomForestClassifier(max_depth=1, random_state=0)\n",
    "clf.fit(X_train, Z_train)\n",
    "print('深さ1の性能:', clf.score(X_val, Z_val)) # 正解率\n",
    "clf = RandomForestClassifier(max_depth=2, random_state=0)\n",
    "clf.fit(X_train, Z_train)\n",
    "print('深さ2の性能:', clf.score(X_val, Z_val)) # 正解率\n",
    "clf = RandomForestClassifier(max_depth=3, random_state=0)\n",
    "clf.fit(X_train, Z_train)\n",
    "print('深さ3の性能:', clf.score(X_val, Z_val)) # 正解率"
   ]
  },
  {
   "cell_type": "markdown",
   "id": "acoustic-shelf",
   "metadata": {},
   "source": [
    "# ランダムフォレストによる回帰"
   ]
  },
  {
   "cell_type": "markdown",
   "id": "exotic-plaintiff",
   "metadata": {},
   "source": [
    "ランダムフォレスト購入量を回帰予測するモデルを作成する"
   ]
  },
  {
   "cell_type": "code",
   "execution_count": 14,
   "id": "thrown-trouble",
   "metadata": {
    "ExecuteTime": {
     "end_time": "2021-03-14T02:10:33.516047Z",
     "start_time": "2021-03-14T02:10:33.208887Z"
    }
   },
   "outputs": [
    {
     "name": "stdout",
     "output_type": "stream",
     "text": [
      "深さ1の性能: 0.7618786062003249\n",
      "深さ2の性能: 0.7810610687821997\n",
      "深さ3の性能: 0.7655149049335737\n"
     ]
    }
   ],
   "source": [
    "from sklearn.ensemble import RandomForestRegressor\n",
    "from sklearn.model_selection import train_test_split\n",
    "\n",
    "# 説明変数\n",
    "X = df[['age', 'sex']]\n",
    "\n",
    "# 目的変数\n",
    "Y = df['amount']\n",
    "\n",
    "# train / test\n",
    "X_train, X_val, Y_train, Y_val = train_test_split(X, Y, train_size=0.6, random_state=0)\n",
    "\n",
    "# 学習と性能確認\n",
    "reg = RandomForestRegressor(max_depth=2, random_state=0)\n",
    "reg.fit(X_train, Y_train)\n",
    "print('深さ1の性能:', reg.score(X_val, Y_val)) # 決定係数R\n",
    "reg = RandomForestRegressor(max_depth=3, random_state=0)\n",
    "reg.fit(X_train, Y_train)\n",
    "print('深さ2の性能:', reg.score(X_val, Y_val)) # 決定係数R\n",
    "reg = RandomForestRegressor(max_depth=4, random_state=0)\n",
    "reg.fit(X_train, Y_train)\n",
    "print('深さ3の性能:', reg.score(X_val, Y_val)) # 決定係数R"
   ]
  },
  {
   "cell_type": "code",
   "execution_count": null,
   "id": "ignored-selection",
   "metadata": {},
   "outputs": [],
   "source": []
  },
  {
   "cell_type": "code",
   "execution_count": null,
   "id": "infinite-notice",
   "metadata": {},
   "outputs": [],
   "source": []
  },
  {
   "cell_type": "code",
   "execution_count": null,
   "id": "homeless-microwave",
   "metadata": {},
   "outputs": [],
   "source": []
  }
 ],
 "metadata": {
  "kernelspec": {
   "display_name": "Python 3",
   "language": "python",
   "name": "python3"
  },
  "language_info": {
   "codemirror_mode": {
    "name": "ipython",
    "version": 3
   },
   "file_extension": ".py",
   "mimetype": "text/x-python",
   "name": "python",
   "nbconvert_exporter": "python",
   "pygments_lexer": "ipython3",
   "version": "3.9.1"
  },
  "toc": {
   "base_numbering": 1,
   "nav_menu": {},
   "number_sections": true,
   "sideBar": true,
   "skip_h1_title": false,
   "title_cell": "Table of Contents",
   "title_sidebar": "Contents",
   "toc_cell": false,
   "toc_position": {},
   "toc_section_display": true,
   "toc_window_display": true
  }
 },
 "nbformat": 4,
 "nbformat_minor": 5
}
