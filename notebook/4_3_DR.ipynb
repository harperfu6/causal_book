{
 "cells": [
  {
   "cell_type": "markdown",
   "id": "hydraulic-observation",
   "metadata": {},
   "source": [
    "Doubly Robust法（DR法）による因果推論の実装"
   ]
  },
  {
   "cell_type": "markdown",
   "id": "agreed-bahrain",
   "metadata": {},
   "source": [
    "簡単に言えば，回帰モデルとITPW法のハイブリット"
   ]
  },
  {
   "cell_type": "markdown",
   "id": "surrounded-rebate",
   "metadata": {},
   "source": [
    "基本的な考え方は，ITPW法だと以下式で，あるiさんについて片方のケースしか考えられておらずもったいないため，  \n",
    "ATE_1_i = Y/Z_pre[:, 1]*Z + (1-Z/Z_pre[:, 1])*Y_1  \n",
    "反実仮想となるもう片方側を回帰分析で求めることで両側面でITPWをしようということ．"
   ]
  },
  {
   "cell_type": "markdown",
   "id": "incoming-daniel",
   "metadata": {},
   "source": [
    "# !!重要!!"
   ]
  },
  {
   "cell_type": "markdown",
   "id": "manual-rolling",
   "metadata": {},
   "source": [
    "線形回帰分析やロジスティック回帰を用いるITPWはあくまで，ZやYがXの線形和で表される場合に限る．そうでない場合は性能が悪化するので注意が必要．"
   ]
  },
  {
   "cell_type": "code",
   "execution_count": null,
   "id": "negative-glossary",
   "metadata": {},
   "outputs": [],
   "source": []
  },
  {
   "cell_type": "markdown",
   "id": "italic-request",
   "metadata": {},
   "source": [
    "# 自前データの作成"
   ]
  },
  {
   "cell_type": "code",
   "execution_count": 2,
   "id": "known-tomato",
   "metadata": {
    "ExecuteTime": {
     "end_time": "2021-03-14T01:34:37.413327Z",
     "start_time": "2021-03-14T01:34:36.139850Z"
    }
   },
   "outputs": [],
   "source": [
    "# 乱数シード\n",
    "import random\n",
    "import numpy as np\n",
    "\n",
    "np.random.seed(1234)\n",
    "random.seed(1234)\n",
    "\n",
    "\n",
    "# 使用するパッケージ（ライブラリと関数）を定義\n",
    "# 標準正規分布の生成用\n",
    "from numpy.random import *\n",
    "# グラフの描画用\n",
    "import matplotlib.pyplot as plt\n",
    "# SciPy 平均0、分散1に正規化（標準化）関数\n",
    "import scipy.stats\n",
    "# シグモイド関数をimport\n",
    "from scipy.special import expit\n",
    "# その他\n",
    "import pandas as pd\n",
    "\n",
    "\n",
    "# サンプル数\n",
    "num_data = 200\n",
    "\n",
    "# 性別 / 年齢（一様分布）\n",
    "# age\n",
    "x_1 = randint(15, 76, num_data) \n",
    "# 性別（0: 女性，1: 男性）\n",
    "x_2 = randint(0, 2, num_data)\n",
    "\n",
    "\n",
    "# テレビCMをみたかどうか\n",
    "# ノイズの生成\n",
    "e_z = randn(num_data)\n",
    "# シグモイド関数に入れる線形関数・・・（1）\n",
    "z_base = x_1 + (1 - x_2)*10 - 40 + 5*e_z\n",
    "# シグモイド関数の計算\n",
    "z_prob = expit(0.1*z_base)\n",
    "# テレビCMを見たかどうか（0: 見ていない，1: 見た）\n",
    "Z = np.array([])\n",
    "# （1）より年配の女性の方が見やすくなる\n",
    "for i in range(num_data):\n",
    "    Z_i = np.random.choice(2, size=1, p=[1-z_prob[i], z_prob[i]])[0]\n",
    "    Z = np.append(Z, Z_i)\n",
    "    \n",
    "\n",
    "# 購入量Y\n",
    "# ノイズの生成\n",
    "e_y = randn(num_data)\n",
    "# 若年層で，男性で，テレビを見ていると購入が多くなる\n",
    "Y = -x_1 + 30*x_2 + 10*Z + 80 + 10*e_y "
   ]
  },
  {
   "cell_type": "markdown",
   "id": "greater-basics",
   "metadata": {},
   "source": [
    "# 作成データ"
   ]
  },
  {
   "cell_type": "code",
   "execution_count": 3,
   "id": "coral-village",
   "metadata": {
    "ExecuteTime": {
     "end_time": "2021-03-14T01:34:47.329587Z",
     "start_time": "2021-03-14T01:34:47.324642Z"
    }
   },
   "outputs": [],
   "source": [
    "df = pd.DataFrame({\n",
    "    'age': x_1,\n",
    "    'sex': x_2,\n",
    "    'cm': Z,\n",
    "    'amount': Y\n",
    "})"
   ]
  },
  {
   "cell_type": "code",
   "execution_count": 4,
   "id": "indonesian-symphony",
   "metadata": {
    "ExecuteTime": {
     "end_time": "2021-03-14T01:34:55.114488Z",
     "start_time": "2021-03-14T01:34:55.096870Z"
    }
   },
   "outputs": [
    {
     "data": {
      "text/html": [
       "<div>\n",
       "<style scoped>\n",
       "    .dataframe tbody tr th:only-of-type {\n",
       "        vertical-align: middle;\n",
       "    }\n",
       "\n",
       "    .dataframe tbody tr th {\n",
       "        vertical-align: top;\n",
       "    }\n",
       "\n",
       "    .dataframe thead th {\n",
       "        text-align: right;\n",
       "    }\n",
       "</style>\n",
       "<table border=\"1\" class=\"dataframe\">\n",
       "  <thead>\n",
       "    <tr style=\"text-align: right;\">\n",
       "      <th></th>\n",
       "      <th>age</th>\n",
       "      <th>sex</th>\n",
       "      <th>cm</th>\n",
       "      <th>amount</th>\n",
       "    </tr>\n",
       "  </thead>\n",
       "  <tbody>\n",
       "    <tr>\n",
       "      <th>0</th>\n",
       "      <td>62</td>\n",
       "      <td>0</td>\n",
       "      <td>1.0</td>\n",
       "      <td>24.464285</td>\n",
       "    </tr>\n",
       "    <tr>\n",
       "      <th>1</th>\n",
       "      <td>34</td>\n",
       "      <td>0</td>\n",
       "      <td>0.0</td>\n",
       "      <td>45.693411</td>\n",
       "    </tr>\n",
       "    <tr>\n",
       "      <th>2</th>\n",
       "      <td>53</td>\n",
       "      <td>1</td>\n",
       "      <td>1.0</td>\n",
       "      <td>64.998281</td>\n",
       "    </tr>\n",
       "    <tr>\n",
       "      <th>3</th>\n",
       "      <td>68</td>\n",
       "      <td>1</td>\n",
       "      <td>1.0</td>\n",
       "      <td>47.186898</td>\n",
       "    </tr>\n",
       "    <tr>\n",
       "      <th>4</th>\n",
       "      <td>27</td>\n",
       "      <td>1</td>\n",
       "      <td>0.0</td>\n",
       "      <td>100.114260</td>\n",
       "    </tr>\n",
       "  </tbody>\n",
       "</table>\n",
       "</div>"
      ],
      "text/plain": [
       "   age  sex   cm      amount\n",
       "0   62    0  1.0   24.464285\n",
       "1   34    0  0.0   45.693411\n",
       "2   53    1  1.0   64.998281\n",
       "3   68    1  1.0   47.186898\n",
       "4   27    1  0.0  100.114260"
      ]
     },
     "execution_count": 4,
     "metadata": {},
     "output_type": "execute_result"
    }
   ],
   "source": [
    "df.head()"
   ]
  },
  {
   "cell_type": "markdown",
   "id": "executed-colorado",
   "metadata": {},
   "source": [
    "## CM別平均"
   ]
  },
  {
   "cell_type": "code",
   "execution_count": 5,
   "id": "atmospheric-index",
   "metadata": {
    "ExecuteTime": {
     "end_time": "2021-03-14T01:35:12.148266Z",
     "start_time": "2021-03-14T01:35:12.135214Z"
    }
   },
   "outputs": [
    {
     "name": "stdout",
     "output_type": "stream",
     "text": [
      "age       55.836066\n",
      "sex        0.483607\n",
      "cm         1.000000\n",
      "amount    49.711478\n",
      "dtype: float64\n",
      "------\n",
      "age       32.141026\n",
      "sex        0.692308\n",
      "cm         0.000000\n",
      "amount    68.827143\n",
      "dtype: float64\n"
     ]
    }
   ],
   "source": [
    "print(df[df['cm']==1.0].mean())\n",
    "print('------')\n",
    "print(df[df['cm']==0.0].mean())"
   ]
  },
  {
   "cell_type": "markdown",
   "id": "dying-audience",
   "metadata": {},
   "source": [
    "# DR法"
   ]
  },
  {
   "cell_type": "markdown",
   "id": "respective-kernel",
   "metadata": {},
   "source": [
    "## 回帰分析の実施"
   ]
  },
  {
   "cell_type": "code",
   "execution_count": 6,
   "id": "crucial-orbit",
   "metadata": {
    "ExecuteTime": {
     "end_time": "2021-03-14T01:39:13.651976Z",
     "start_time": "2021-03-14T01:39:13.640987Z"
    }
   },
   "outputs": [],
   "source": [
    "from sklearn.linear_model import LinearRegression\n",
    "\n",
    "# 説明変数\n",
    "X = df[['age', 'sex', 'cm']]\n",
    "\n",
    "# 目的変数\n",
    "y = df['amount']\n",
    "\n",
    "# 回帰\n",
    "reg2 = LinearRegression().fit(X, y)\n",
    "\n",
    "# Z=0（cmを見ていない）場合のデータ\n",
    "X_0 = X.copy()\n",
    "X_0['cm'] = 0\n",
    "Y_0 = reg2.predict(X_0)\n",
    "\n",
    "# Z=1（cmを見ていた）場合のデータ\n",
    "X_1 = X.copy()\n",
    "X_1['cm'] = 1\n",
    "Y_1 = reg2.predict(X_1)"
   ]
  },
  {
   "cell_type": "markdown",
   "id": "lesser-antigua",
   "metadata": {},
   "source": [
    "## 傾向スコアの推定"
   ]
  },
  {
   "cell_type": "code",
   "execution_count": 7,
   "id": "radio-manner",
   "metadata": {
    "ExecuteTime": {
     "end_time": "2021-03-14T01:41:17.556641Z",
     "start_time": "2021-03-14T01:41:17.540467Z"
    }
   },
   "outputs": [
    {
     "name": "stdout",
     "output_type": "stream",
     "text": [
      "[[0.04002323 0.95997677]\n",
      " [0.44525168 0.55474832]\n",
      " [0.30065918 0.69934082]\n",
      " [0.08101946 0.91898054]\n",
      " [0.87013558 0.12986442]]\n"
     ]
    }
   ],
   "source": [
    "from sklearn.linear_model import LogisticRegression\n",
    "\n",
    "# 説明変数\n",
    "X = df[['age', 'sex']]\n",
    "\n",
    "# 目的変数\n",
    "Z = df['cm']\n",
    "\n",
    "# 回帰\n",
    "reg = LogisticRegression().fit(X, Z)\n",
    "\n",
    "# 傾向スコア\n",
    "Z_pre = reg.predict_proba(X)\n",
    "print(Z_pre[0:5]) # 5人くらいの結果"
   ]
  },
  {
   "cell_type": "markdown",
   "id": "stretch-moral",
   "metadata": {},
   "source": [
    "## 平均処置効果ATE"
   ]
  },
  {
   "cell_type": "code",
   "execution_count": 9,
   "id": "anticipated-enough",
   "metadata": {
    "ExecuteTime": {
     "end_time": "2021-03-14T01:44:18.048982Z",
     "start_time": "2021-03-14T01:44:18.039970Z"
    }
   },
   "outputs": [
    {
     "name": "stdout",
     "output_type": "stream",
     "text": [
      "推定されるATE 9.75277505424846\n"
     ]
    }
   ],
   "source": [
    "ATE_1_i = Y/Z_pre[:, 1]*Z + (1-Z/Z_pre[:, 1])*Y_1\n",
    "ATE_0_i = Y/Z_pre[:, 0]*(1-Z) + (1-(1-Z)/Z_pre[:, 0])*Y_0\n",
    "ATE = 1/len(Y)*(ATE_1_i-ATE_0_i).sum()\n",
    "print('推定されるATE', ATE)"
   ]
  },
  {
   "cell_type": "code",
   "execution_count": null,
   "id": "prerequisite-white",
   "metadata": {},
   "outputs": [],
   "source": []
  },
  {
   "cell_type": "code",
   "execution_count": null,
   "id": "applied-landscape",
   "metadata": {},
   "outputs": [],
   "source": []
  }
 ],
 "metadata": {
  "kernelspec": {
   "display_name": "Python 3",
   "language": "python",
   "name": "python3"
  },
  "language_info": {
   "codemirror_mode": {
    "name": "ipython",
    "version": 3
   },
   "file_extension": ".py",
   "mimetype": "text/x-python",
   "name": "python",
   "nbconvert_exporter": "python",
   "pygments_lexer": "ipython3",
   "version": "3.9.1"
  },
  "toc": {
   "base_numbering": 1,
   "nav_menu": {},
   "number_sections": true,
   "sideBar": true,
   "skip_h1_title": false,
   "title_cell": "Table of Contents",
   "title_sidebar": "Contents",
   "toc_cell": false,
   "toc_position": {},
   "toc_section_display": true,
   "toc_window_display": true
  }
 },
 "nbformat": 4,
 "nbformat_minor": 5
}
