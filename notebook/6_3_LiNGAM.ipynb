{
 "cells": [
  {
   "cell_type": "markdown",
   "id": "initial-argument",
   "metadata": {},
   "source": [
    "LiNGAMによる因果探索"
   ]
  },
  {
   "cell_type": "markdown",
   "id": "affecting-burke",
   "metadata": {},
   "source": [
    "- 線形な構造方程式モデル（生成モデル）→ Linear\n",
    "- 誤差ノイズが非ガウス分布（正規分布でない）→ Non Gausian\n",
    "- 非循環なグラフ→ Acyclic"
   ]
  },
  {
   "cell_type": "markdown",
   "id": "external-essay",
   "metadata": {},
   "source": [
    "基本的に，  \n",
    "x = Bx + e  \n",
    "という式で表され，Bを解くことが構造方程式を導くことになるので目標となる．  \n",
    "また，A = (I-B)^-1と置くことで  \n",
    "x = Aeと表され，これが「独立成分分析」での式と類似しているという特徴がある"
   ]
  },
  {
   "cell_type": "markdown",
   "id": "defensive-wonder",
   "metadata": {},
   "source": [
    "ただし，LiNGAMでは行列Bに制約があるため，そうなるようにA^-1(=I-B)を変形する必要がある．  \n",
    "- 上三角成分が0\n",
    "- 対角成分が1"
   ]
  },
  {
   "cell_type": "code",
   "execution_count": 1,
   "id": "interesting-flooring",
   "metadata": {
    "ExecuteTime": {
     "end_time": "2021-03-14T08:38:33.062345Z",
     "start_time": "2021-03-14T08:38:32.856065Z"
    }
   },
   "outputs": [],
   "source": [
    "# 乱数シードの固定\n",
    "import random\n",
    "import numpy as np\n",
    "\n",
    "random.seed(1234)\n",
    "np.random.seed(1234)"
   ]
  },
  {
   "cell_type": "code",
   "execution_count": 2,
   "id": "cognitive-therapist",
   "metadata": {
    "ExecuteTime": {
     "end_time": "2021-03-14T08:38:39.369925Z",
     "start_time": "2021-03-14T08:38:38.956235Z"
    }
   },
   "outputs": [],
   "source": [
    "import pandas as pd"
   ]
  },
  {
   "cell_type": "markdown",
   "id": "complicated-sunrise",
   "metadata": {},
   "source": [
    "# 自作データ"
   ]
  },
  {
   "cell_type": "markdown",
   "id": "sapphire-minutes",
   "metadata": {},
   "source": [
    "## model"
   ]
  },
  {
   "cell_type": "markdown",
   "id": "unnecessary-fight",
   "metadata": {},
   "source": [
    "x1 = 3×x2 + ex1  \n",
    "x2 = ex2  \n",
    "x3 = 2×x1 + 4×x2 + ex3"
   ]
  },
  {
   "cell_type": "code",
   "execution_count": 10,
   "id": "greenhouse-setting",
   "metadata": {
    "ExecuteTime": {
     "end_time": "2021-03-14T23:01:06.558234Z",
     "start_time": "2021-03-14T23:01:06.551930Z"
    }
   },
   "outputs": [],
   "source": [
    "# データ数\n",
    "num_data = 200\n",
    "\n",
    "# 非ガウスのノイズ（ポイント!!!!）\n",
    "ex1 = 2*(np.random.rand(num_data)-0.5) # -1から1\n",
    "ex2 = 2*(np.random.rand(num_data)-0.5) # -1から1\n",
    "ex3 = 2*(np.random.rand(num_data)-0.5) # -1から1\n",
    "\n",
    "# データ生成（構造方程式モデル）\n",
    "x2 = ex2\n",
    "x1 = 3*x2 + ex1\n",
    "x3 = 2*x1 + 4*x2 + ex3\n",
    "\n",
    "df = pd.DataFrame({\"x1\": x1, \"x2\": x2, \"x3\": x3})"
   ]
  },
  {
   "cell_type": "code",
   "execution_count": 11,
   "id": "bulgarian-accessory",
   "metadata": {
    "ExecuteTime": {
     "end_time": "2021-03-14T23:01:06.790946Z",
     "start_time": "2021-03-14T23:01:06.779004Z"
    }
   },
   "outputs": [
    {
     "data": {
      "text/html": [
       "<div>\n",
       "<style scoped>\n",
       "    .dataframe tbody tr th:only-of-type {\n",
       "        vertical-align: middle;\n",
       "    }\n",
       "\n",
       "    .dataframe tbody tr th {\n",
       "        vertical-align: top;\n",
       "    }\n",
       "\n",
       "    .dataframe thead th {\n",
       "        text-align: right;\n",
       "    }\n",
       "</style>\n",
       "<table border=\"1\" class=\"dataframe\">\n",
       "  <thead>\n",
       "    <tr style=\"text-align: right;\">\n",
       "      <th></th>\n",
       "      <th>x1</th>\n",
       "      <th>x2</th>\n",
       "      <th>x3</th>\n",
       "    </tr>\n",
       "  </thead>\n",
       "  <tbody>\n",
       "    <tr>\n",
       "      <th>0</th>\n",
       "      <td>1.179586</td>\n",
       "      <td>0.595859</td>\n",
       "      <td>3.915641</td>\n",
       "    </tr>\n",
       "    <tr>\n",
       "      <th>1</th>\n",
       "      <td>-2.100976</td>\n",
       "      <td>-0.392811</td>\n",
       "      <td>-5.267171</td>\n",
       "    </tr>\n",
       "    <tr>\n",
       "      <th>2</th>\n",
       "      <td>-0.377316</td>\n",
       "      <td>-0.203013</td>\n",
       "      <td>-1.082107</td>\n",
       "    </tr>\n",
       "    <tr>\n",
       "      <th>3</th>\n",
       "      <td>-0.174973</td>\n",
       "      <td>-0.101412</td>\n",
       "      <td>-1.124580</td>\n",
       "    </tr>\n",
       "    <tr>\n",
       "      <th>4</th>\n",
       "      <td>-3.660327</td>\n",
       "      <td>-0.958930</td>\n",
       "      <td>-10.465744</td>\n",
       "    </tr>\n",
       "  </tbody>\n",
       "</table>\n",
       "</div>"
      ],
      "text/plain": [
       "         x1        x2         x3\n",
       "0  1.179586  0.595859   3.915641\n",
       "1 -2.100976 -0.392811  -5.267171\n",
       "2 -0.377316 -0.203013  -1.082107\n",
       "3 -0.174973 -0.101412  -1.124580\n",
       "4 -3.660327 -0.958930 -10.465744"
      ]
     },
     "execution_count": 11,
     "metadata": {},
     "output_type": "execute_result"
    }
   ],
   "source": [
    "df.head()"
   ]
  },
  {
   "cell_type": "markdown",
   "id": "finished-consequence",
   "metadata": {},
   "source": [
    "# 独立成分分析"
   ]
  },
  {
   "cell_type": "code",
   "execution_count": 12,
   "id": "three-ability",
   "metadata": {
    "ExecuteTime": {
     "end_time": "2021-03-14T23:01:09.627995Z",
     "start_time": "2021-03-14T23:01:09.618339Z"
    }
   },
   "outputs": [],
   "source": [
    "from sklearn.decomposition import FastICA\n",
    "\n",
    "ica = FastICA(random_state=1234).fit(df)\n",
    "\n",
    "# ICAで求めた行列A\n",
    "A_ica = ica.mixing_\n",
    "\n",
    "# 行列Aの逆行列を求める\n",
    "A_ica_inv = np.linalg.pinv(A_ica)"
   ]
  },
  {
   "cell_type": "code",
   "execution_count": 13,
   "id": "scheduled-scott",
   "metadata": {
    "ExecuteTime": {
     "end_time": "2021-03-14T23:01:10.325168Z",
     "start_time": "2021-03-14T23:01:10.321404Z"
    }
   },
   "outputs": [
    {
     "data": {
      "text/plain": [
       "array([[-0.25118281, -0.48334517,  0.12477184],\n",
       "       [ 0.01970723,  0.14798746, -0.00841105],\n",
       "       [-0.11576958,  0.35454395, -0.00139253]])"
      ]
     },
     "execution_count": 13,
     "metadata": {},
     "output_type": "execute_result"
    }
   ],
   "source": [
    "A_ica_inv"
   ]
  },
  {
   "cell_type": "markdown",
   "id": "identified-advance",
   "metadata": {},
   "source": [
    "## 行列A_inv→制約に合わせて調整"
   ]
  },
  {
   "cell_type": "code",
   "execution_count": 14,
   "id": "confused-medline",
   "metadata": {
    "ExecuteTime": {
     "end_time": "2021-03-14T23:02:49.556069Z",
     "start_time": "2021-03-14T23:02:49.553111Z"
    }
   },
   "outputs": [],
   "source": [
    "from munkres import Munkres\n",
    "from copy import deepcopy"
   ]
  },
  {
   "cell_type": "code",
   "execution_count": 23,
   "id": "exterior-reaction",
   "metadata": {
    "ExecuteTime": {
     "end_time": "2021-03-14T23:17:55.720249Z",
     "start_time": "2021-03-14T23:17:55.714346Z"
    }
   },
   "outputs": [
    {
     "name": "stdout",
     "output_type": "stream",
     "text": [
      "[[-0.11576958  0.35454395 -0.00139253]\n",
      " [ 0.01970723  0.14798746 -0.00841105]\n",
      " [-0.25118281 -0.48334517  0.12477184]]\n"
     ]
    }
   ],
   "source": [
    "# 実装の参考\n",
    "# [5] Qiita：LiNGAMモデルの推定方法について\n",
    "# https://qiita.com/m__k/items/bd87c063a7496897ba7c\n",
    "\n",
    "\n",
    "# ①「行の順番を変換」→対角成分の絶対値を最大にする\n",
    "# （元のA^-1の対角成分は必ず0ではないので）\n",
    "# 絶対値の逆数にして対角成分の和を最小にする問題に置き換える\n",
    "A_ica_inv_small = 1 / np.abs(A_ica_inv)\n",
    "\n",
    "# 対角成分の和を最小にする行の入れ替え順を求める\n",
    "m = Munkres() # ハンガリアン法\n",
    "ixs = np.vstack(m.compute(deepcopy(A_ica_inv_small)))\n",
    "\n",
    "# 求めた順番で変換\n",
    "ixs = ixs[np.argsort(ixs[:, 0]), :]\n",
    "ixs_perm = ixs[:, 1]\n",
    "A_ica_inv_perm = np.zeros_like(A_ica_inv)\n",
    "A_ica_inv_perm[ixs_perm] = A_ica_inv\n",
    "print(A_ica_inv_perm)"
   ]
  },
  {
   "cell_type": "code",
   "execution_count": 24,
   "id": "antique-fields",
   "metadata": {
    "ExecuteTime": {
     "end_time": "2021-03-14T23:18:02.449611Z",
     "start_time": "2021-03-14T23:18:02.446324Z"
    }
   },
   "outputs": [
    {
     "name": "stdout",
     "output_type": "stream",
     "text": [
      "[[0 2]\n",
      " [1 1]\n",
      " [2 0]]\n"
     ]
    }
   ],
   "source": [
    "# 並び変わった順番\n",
    "print(ixs)"
   ]
  },
  {
   "cell_type": "code",
   "execution_count": 25,
   "id": "operational-ranking",
   "metadata": {
    "ExecuteTime": {
     "end_time": "2021-03-14T23:18:11.486519Z",
     "start_time": "2021-03-14T23:18:11.481754Z"
    }
   },
   "outputs": [
    {
     "name": "stdout",
     "output_type": "stream",
     "text": [
      "[[ 1.         -3.06249664  0.01202846]\n",
      " [ 0.13316823  1.         -0.05683623]\n",
      " [-2.01313708 -3.87383229  1.        ]]\n"
     ]
    }
   ],
   "source": [
    "# ②「行の大きさを調整」\n",
    "D = np.diag(A_ica_inv_perm)[:, np.newaxis] # D倍されているDを求める\n",
    "A_ica_inv_perm_D = A_ica_inv_perm / D\n",
    "print(A_ica_inv_perm_D)"
   ]
  },
  {
   "cell_type": "code",
   "execution_count": 26,
   "id": "otherwise-found",
   "metadata": {
    "ExecuteTime": {
     "end_time": "2021-03-14T23:18:16.743120Z",
     "start_time": "2021-03-14T23:18:16.740331Z"
    }
   },
   "outputs": [
    {
     "name": "stdout",
     "output_type": "stream",
     "text": [
      "[[ 0.          3.06249664 -0.01202846]\n",
      " [-0.13316823  0.          0.05683623]\n",
      " [ 2.01313708  3.87383229  0.        ]]\n"
     ]
    }
   ],
   "source": [
    "# ③「B=I-A_inv」\n",
    "B_est = np.eye(3) - A_ica_inv_perm_D\n",
    "print(B_est)"
   ]
  },
  {
   "cell_type": "markdown",
   "id": "african-disposal",
   "metadata": {},
   "source": [
    "今回の構造方程式は以下なので"
   ]
  },
  {
   "cell_type": "markdown",
   "id": "wound-player",
   "metadata": {},
   "source": [
    "x1 = 3x2 + ex1  \n",
    "x2 = ex2  \n",
    "x3 = 2x1 + 4x2 + ex3"
   ]
  },
  {
   "cell_type": "markdown",
   "id": "completed-auction",
   "metadata": {},
   "source": [
    "正解のBは\n",
    "\\begin{pmatrix}\n",
    "0 & 3 & 0 \\\\\n",
    "0 & 0 & 0 \\\\\n",
    "2 & 4 & 0 \\\\\n",
    "\\end{pmatrix}"
   ]
  },
  {
   "cell_type": "markdown",
   "id": "surrounded-newfoundland",
   "metadata": {},
   "source": [
    "上記B_estはデータが有限であり計算誤差も生まれてしまうので，0になるべき部分が0でない．  \n",
    "そこで，0になるべきはずの数の個数分だけ，絶対値が小さい成分を0にする．"
   ]
  },
  {
   "cell_type": "code",
   "execution_count": 27,
   "id": "inappropriate-packing",
   "metadata": {
    "ExecuteTime": {
     "end_time": "2021-03-14T23:19:03.014742Z",
     "start_time": "2021-03-14T23:19:03.002280Z"
    },
    "scrolled": false
   },
   "outputs": [
    {
     "name": "stdout",
     "output_type": "stream",
     "text": [
      "[[0.         3.06249664 0.        ]\n",
      " [0.         0.         0.        ]\n",
      " [2.01313708 3.87383229 0.        ]]\n"
     ]
    }
   ],
   "source": [
    "# ①上側成分の0になるはずの数（3×3であれば3個、4×4であれば6個と、対角成分の上側の要素数分）、絶対値が小さい成分を0にする\n",
    "# ②変数の順番を入れ替えて、下三角行列になるかを確かめる、\n",
    "# 実装の参考\n",
    "# [5] Qiita：LiNGAMモデルの推定方法について\n",
    "# https://qiita.com/m__k/items/bd87c063a7496897ba7c\n",
    "\n",
    "def _slttestperm(b_i):\n",
    "# b_iの行を並び替えて下三角行列にできるかどうかチェック\n",
    "    n = b_i.shape[0]\n",
    "    remnodes = np.arange(n)\n",
    "    b_rem = deepcopy(b_i)\n",
    "    p = list() \n",
    "\n",
    "    for i in range(n):\n",
    "        # 成分が全て0である行番号のリスト\n",
    "        ixs = np.where(np.sum(np.abs(b_rem), axis=1) < 1e-12)[0]\n",
    "\n",
    "        if len(ixs) == 0:\n",
    "            return None\n",
    "        else:\n",
    "            ix = ixs[0]\n",
    "            p.append(remnodes[ix])\n",
    "\n",
    "            #　成分が全て0である行を削除\n",
    "            remnodes = np.hstack((remnodes[:ix], remnodes[(ix + 1):]))\n",
    "            ixs = np.hstack((np.arange(ix), np.arange(ix + 1, len(b_rem))))\n",
    "            b_rem = b_rem[ixs, :]\n",
    "            b_rem = b_rem[:, ixs]\n",
    "\n",
    "    return np.array(p)\n",
    "\n",
    "b = B_est\n",
    "n = b.shape[0]\n",
    "assert(b.shape == (n, n))\n",
    "\n",
    "ixs = np.argsort(np.abs(b).ravel())\n",
    "\n",
    "for i in range(int(n * (n + 1) / 2) - 1, (n * n) - 1):\n",
    "    b_i = deepcopy(b)\n",
    "    b_i.ravel()[ixs[:i]] = 0\n",
    "    ixs_perm = _slttestperm(b_i)\n",
    "    if ixs_perm is not None:\n",
    "        b_opt = deepcopy(b)\n",
    "        b_opt = b_opt[ixs_perm, :]\n",
    "        b_opt = b_opt[:, ixs_perm]\n",
    "        break\n",
    "b_csl = np.tril(b_opt, -1)\n",
    "b_csl[ixs_perm, :] = deepcopy(b_csl)\n",
    "b_csl[:, ixs_perm] = deepcopy(b_csl)\n",
    "\n",
    "B_est1 = b_csl\n",
    "print(B_est1)"
   ]
  },
  {
   "cell_type": "markdown",
   "id": "sixth-photographer",
   "metadata": {},
   "source": [
    "これは変数Xの順番を入れ替えると下三角行列になる  \n",
    "よってこれは非循環の条件を満たしている"
   ]
  },
  {
   "cell_type": "code",
   "execution_count": null,
   "id": "structured-eagle",
   "metadata": {},
   "outputs": [],
   "source": []
  },
  {
   "cell_type": "markdown",
   "id": "julian-portable",
   "metadata": {},
   "source": [
    "# 回帰分析で非ゼロ部分（構造方程式の係数部分）を求め直す"
   ]
  },
  {
   "cell_type": "markdown",
   "id": "appropriate-windows",
   "metadata": {},
   "source": [
    "上記で絶対値の小さい部分をゼロ化したので，当操作後での正確な係数を求める"
   ]
  },
  {
   "cell_type": "code",
   "execution_count": 32,
   "id": "peaceful-admission",
   "metadata": {
    "ExecuteTime": {
     "end_time": "2021-03-14T23:37:56.942375Z",
     "start_time": "2021-03-14T23:37:56.931942Z"
    }
   },
   "outputs": [],
   "source": [
    "from sklearn.linear_model import LinearRegression\n",
    "\n",
    "# 説明変数\n",
    "## 方程式から非ゼロ部分を取り出す\n",
    "X1 = df[['x2']]\n",
    "X3 = df[['x1', 'x2']]\n",
    "\n",
    "# 回帰\n",
    "reg1 = LinearRegression().fit(X1, df['x1'])\n",
    "reg3 = LinearRegression().fit(X3, df['x3'])"
   ]
  },
  {
   "cell_type": "code",
   "execution_count": 33,
   "id": "varied-breach",
   "metadata": {
    "ExecuteTime": {
     "end_time": "2021-03-14T23:37:57.310361Z",
     "start_time": "2021-03-14T23:37:57.306604Z"
    }
   },
   "outputs": [
    {
     "name": "stdout",
     "output_type": "stream",
     "text": [
      "係数： [2.91955115]\n",
      "係数： [2.00407234 3.96697864]\n"
     ]
    }
   ],
   "source": [
    "# 回帰した結果の係数を出力\n",
    "print(\"係数：\", reg1.coef_)\n",
    "print(\"係数：\", reg3.coef_)"
   ]
  },
  {
   "cell_type": "markdown",
   "id": "extra-interaction",
   "metadata": {},
   "source": [
    "この推定値は以下正解とほぼ同じである"
   ]
  },
  {
   "cell_type": "markdown",
   "id": "moderate-mining",
   "metadata": {},
   "source": [
    "x1 = 3x2 + ex1  \n",
    "x2 = ex2  \n",
    "x3 = 2x1 + 4x2 + ex3"
   ]
  },
  {
   "cell_type": "code",
   "execution_count": null,
   "id": "engaging-assessment",
   "metadata": {},
   "outputs": [],
   "source": []
  }
 ],
 "metadata": {
  "kernelspec": {
   "display_name": "Python 3",
   "language": "python",
   "name": "python3"
  },
  "language_info": {
   "codemirror_mode": {
    "name": "ipython",
    "version": 3
   },
   "file_extension": ".py",
   "mimetype": "text/x-python",
   "name": "python",
   "nbconvert_exporter": "python",
   "pygments_lexer": "ipython3",
   "version": "3.9.1"
  },
  "toc": {
   "base_numbering": 1,
   "nav_menu": {},
   "number_sections": true,
   "sideBar": true,
   "skip_h1_title": false,
   "title_cell": "Table of Contents",
   "title_sidebar": "Contents",
   "toc_cell": false,
   "toc_position": {},
   "toc_section_display": true,
   "toc_window_display": true
  }
 },
 "nbformat": 4,
 "nbformat_minor": 5
}
