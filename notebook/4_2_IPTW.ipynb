{
 "cells": [
  {
   "cell_type": "markdown",
   "id": "changed-mozambique",
   "metadata": {},
   "source": [
    "傾向スコア（逆確率重み付け（IPTW））による因果推論"
   ]
  },
  {
   "cell_type": "markdown",
   "id": "casual-concern",
   "metadata": {},
   "source": [
    "基本的な考え方としては，各人（特徴量X）の介入Zを取りうる確率で正規化してあげる，ということ"
   ]
  },
  {
   "cell_type": "code",
   "execution_count": null,
   "id": "accomplished-position",
   "metadata": {},
   "outputs": [],
   "source": []
  },
  {
   "cell_type": "code",
   "execution_count": 1,
   "id": "aerial-cloud",
   "metadata": {
    "ExecuteTime": {
     "end_time": "2021-03-13T01:51:33.765593Z",
     "start_time": "2021-03-13T01:51:33.591836Z"
    }
   },
   "outputs": [],
   "source": [
    "# 乱数シード\n",
    "import random\n",
    "import numpy as np\n",
    "\n",
    "np.random.seed(1234)\n",
    "random.seed(1234)"
   ]
  },
  {
   "cell_type": "code",
   "execution_count": 2,
   "id": "convinced-tiger",
   "metadata": {
    "ExecuteTime": {
     "end_time": "2021-03-13T01:51:49.619035Z",
     "start_time": "2021-03-13T01:51:48.146524Z"
    }
   },
   "outputs": [],
   "source": [
    "# 使用するパッケージ（ライブラリと関数）を定義\n",
    "# 標準正規分布の生成用\n",
    "from numpy.random import *\n",
    "\n",
    "# グラフの描画用\n",
    "import matplotlib.pyplot as plt\n",
    "\n",
    "# SciPy 平均0、分散1に正規化（標準化）関数\n",
    "import scipy.stats\n",
    "\n",
    "# シグモイド関数をimport\n",
    "from scipy.special import expit\n",
    "\n",
    "# その他\n",
    "import pandas as pd"
   ]
  },
  {
   "cell_type": "markdown",
   "id": "antique-henry",
   "metadata": {
    "ExecuteTime": {
     "end_time": "2021-03-13T01:52:14.473991Z",
     "start_time": "2021-03-13T01:52:14.470661Z"
    }
   },
   "source": [
    "# 自前でデータ作成"
   ]
  },
  {
   "cell_type": "code",
   "execution_count": 4,
   "id": "distant-manufacturer",
   "metadata": {
    "ExecuteTime": {
     "end_time": "2021-03-13T01:52:25.267494Z",
     "start_time": "2021-03-13T01:52:25.264869Z"
    }
   },
   "outputs": [],
   "source": [
    "num_data = 200"
   ]
  },
  {
   "cell_type": "markdown",
   "id": "excellent-warren",
   "metadata": {},
   "source": [
    "## 性別，年齢"
   ]
  },
  {
   "cell_type": "code",
   "execution_count": 5,
   "id": "accurate-equivalent",
   "metadata": {
    "ExecuteTime": {
     "end_time": "2021-03-13T01:52:46.182847Z",
     "start_time": "2021-03-13T01:52:46.178702Z"
    }
   },
   "outputs": [],
   "source": [
    "#一様乱数\n",
    "# age\n",
    "x_1 = randint(15, 76, num_data) \n",
    "# 性別（0: 女性，1: 男性）\n",
    "x_2 = randint(0, 2, num_data)"
   ]
  },
  {
   "cell_type": "markdown",
   "id": "binding-bidder",
   "metadata": {},
   "source": [
    "## テレビCMをみたか"
   ]
  },
  {
   "cell_type": "code",
   "execution_count": 6,
   "id": "novel-permission",
   "metadata": {
    "ExecuteTime": {
     "end_time": "2021-03-13T01:53:17.468089Z",
     "start_time": "2021-03-13T01:53:17.442339Z"
    }
   },
   "outputs": [],
   "source": [
    "# ノイズの生成\n",
    "e_z = randn(num_data)\n",
    "\n",
    "# シグモイド関数に入れる線形関数・・・（1）\n",
    "z_base = x_1 + (1 - x_2)*10 - 40 + 5*e_z\n",
    "\n",
    "# シグモイド関数の計算\n",
    "z_prob = expit(0.1*z_base)\n",
    "\n",
    "# テレビCMを見たかどうか（0: 見ていない，1: 見た）\n",
    "Z = np.array([])\n",
    "\n",
    "# （1）より年配の女性の方が見やすくなる\n",
    "for i in range(num_data):\n",
    "    Z_i = np.random.choice(2, size=1, p=[1-z_prob[i], z_prob[i]])[0]\n",
    "    Z = np.append(Z, Z_i)"
   ]
  },
  {
   "cell_type": "markdown",
   "id": "developing-furniture",
   "metadata": {},
   "source": [
    "## 購入量Y"
   ]
  },
  {
   "cell_type": "code",
   "execution_count": 7,
   "id": "proper-newark",
   "metadata": {
    "ExecuteTime": {
     "end_time": "2021-03-13T01:53:35.287884Z",
     "start_time": "2021-03-13T01:53:35.283982Z"
    }
   },
   "outputs": [],
   "source": [
    "# ノイズの生成\n",
    "e_y = randn(num_data)\n",
    "\n",
    "# 若年層で，男性で，テレビを見ていると購入が多くなる\n",
    "Y = -x_1 + 30*x_2 + 10*Z + 80 + 10*e_y "
   ]
  },
  {
   "cell_type": "markdown",
   "id": "afraid-object",
   "metadata": {},
   "source": [
    "# 作成データ"
   ]
  },
  {
   "cell_type": "code",
   "execution_count": 8,
   "id": "outdoor-creativity",
   "metadata": {
    "ExecuteTime": {
     "end_time": "2021-03-13T01:53:51.829528Z",
     "start_time": "2021-03-13T01:53:51.825291Z"
    }
   },
   "outputs": [],
   "source": [
    "df = pd.DataFrame({\n",
    "    'age': x_1,\n",
    "    'sex': x_2,\n",
    "    'cm': Z,\n",
    "    'amount': Y\n",
    "})"
   ]
  },
  {
   "cell_type": "code",
   "execution_count": 9,
   "id": "close-payroll",
   "metadata": {
    "ExecuteTime": {
     "end_time": "2021-03-13T01:53:58.010908Z",
     "start_time": "2021-03-13T01:53:57.993820Z"
    }
   },
   "outputs": [
    {
     "data": {
      "text/html": [
       "<div>\n",
       "<style scoped>\n",
       "    .dataframe tbody tr th:only-of-type {\n",
       "        vertical-align: middle;\n",
       "    }\n",
       "\n",
       "    .dataframe tbody tr th {\n",
       "        vertical-align: top;\n",
       "    }\n",
       "\n",
       "    .dataframe thead th {\n",
       "        text-align: right;\n",
       "    }\n",
       "</style>\n",
       "<table border=\"1\" class=\"dataframe\">\n",
       "  <thead>\n",
       "    <tr style=\"text-align: right;\">\n",
       "      <th></th>\n",
       "      <th>age</th>\n",
       "      <th>sex</th>\n",
       "      <th>cm</th>\n",
       "      <th>amount</th>\n",
       "    </tr>\n",
       "  </thead>\n",
       "  <tbody>\n",
       "    <tr>\n",
       "      <th>0</th>\n",
       "      <td>62</td>\n",
       "      <td>0</td>\n",
       "      <td>1.0</td>\n",
       "      <td>24.464285</td>\n",
       "    </tr>\n",
       "    <tr>\n",
       "      <th>1</th>\n",
       "      <td>34</td>\n",
       "      <td>0</td>\n",
       "      <td>0.0</td>\n",
       "      <td>45.693411</td>\n",
       "    </tr>\n",
       "    <tr>\n",
       "      <th>2</th>\n",
       "      <td>53</td>\n",
       "      <td>1</td>\n",
       "      <td>1.0</td>\n",
       "      <td>64.998281</td>\n",
       "    </tr>\n",
       "    <tr>\n",
       "      <th>3</th>\n",
       "      <td>68</td>\n",
       "      <td>1</td>\n",
       "      <td>1.0</td>\n",
       "      <td>47.186898</td>\n",
       "    </tr>\n",
       "    <tr>\n",
       "      <th>4</th>\n",
       "      <td>27</td>\n",
       "      <td>1</td>\n",
       "      <td>0.0</td>\n",
       "      <td>100.114260</td>\n",
       "    </tr>\n",
       "  </tbody>\n",
       "</table>\n",
       "</div>"
      ],
      "text/plain": [
       "   age  sex   cm      amount\n",
       "0   62    0  1.0   24.464285\n",
       "1   34    0  0.0   45.693411\n",
       "2   53    1  1.0   64.998281\n",
       "3   68    1  1.0   47.186898\n",
       "4   27    1  0.0  100.114260"
      ]
     },
     "execution_count": 9,
     "metadata": {},
     "output_type": "execute_result"
    }
   ],
   "source": [
    "df.head()"
   ]
  },
  {
   "cell_type": "markdown",
   "id": "governmental-leonard",
   "metadata": {},
   "source": [
    "## CM別平均"
   ]
  },
  {
   "cell_type": "code",
   "execution_count": 10,
   "id": "intelligent-guitar",
   "metadata": {
    "ExecuteTime": {
     "end_time": "2021-03-13T01:54:19.194705Z",
     "start_time": "2021-03-13T01:54:19.181861Z"
    }
   },
   "outputs": [
    {
     "name": "stdout",
     "output_type": "stream",
     "text": [
      "age       55.836066\n",
      "sex        0.483607\n",
      "cm         1.000000\n",
      "amount    49.711478\n",
      "dtype: float64\n",
      "------\n",
      "age       32.141026\n",
      "sex        0.692308\n",
      "cm         0.000000\n",
      "amount    68.827143\n",
      "dtype: float64\n"
     ]
    }
   ],
   "source": [
    "print(df[df['cm']==1.0].mean())\n",
    "print('------')\n",
    "print(df[df['cm']==0.0].mean())"
   ]
  },
  {
   "cell_type": "markdown",
   "id": "improved-congo",
   "metadata": {},
   "source": [
    "# 傾向スコアの推定"
   ]
  },
  {
   "cell_type": "markdown",
   "id": "natural-technician",
   "metadata": {},
   "source": [
    "介入Zを目的変数として，ロジスティック回帰を用いて特徴量XのZの予測値を求める．"
   ]
  },
  {
   "cell_type": "code",
   "execution_count": 11,
   "id": "popular-bosnia",
   "metadata": {
    "ExecuteTime": {
     "end_time": "2021-03-14T01:12:28.369119Z",
     "start_time": "2021-03-14T01:12:28.286223Z"
    }
   },
   "outputs": [
    {
     "name": "stdout",
     "output_type": "stream",
     "text": [
      "coef beta:  [[ 0.10562765 -1.38263933]]\n",
      "coef alpah:  [-3.37146523]\n"
     ]
    }
   ],
   "source": [
    "from sklearn.linear_model import LogisticRegression\n",
    "\n",
    "# 説明変数\n",
    "X = df[['age', 'sex']]\n",
    "\n",
    "# 目的変数\n",
    "Z = df['cm']\n",
    "\n",
    "# 回帰\n",
    "reg = LogisticRegression().fit(X, Z)\n",
    "\n",
    "# 回帰実施後の係数\n",
    "print('coef beta: ', reg.coef_)\n",
    "print('coef alpah: ', reg.intercept_)"
   ]
  },
  {
   "cell_type": "markdown",
   "id": "reflected-index",
   "metadata": {},
   "source": [
    "## 各人の傾向スコアを求める"
   ]
  },
  {
   "cell_type": "code",
   "execution_count": 12,
   "id": "descending-fiction",
   "metadata": {
    "ExecuteTime": {
     "end_time": "2021-03-14T01:14:35.026591Z",
     "start_time": "2021-03-14T01:14:35.017343Z"
    }
   },
   "outputs": [
    {
     "name": "stdout",
     "output_type": "stream",
     "text": [
      "[[0.04002323 0.95997677]\n",
      " [0.44525168 0.55474832]\n",
      " [0.30065918 0.69934082]\n",
      " [0.08101946 0.91898054]\n",
      " [0.87013558 0.12986442]]\n",
      "----\n",
      "0    1.0\n",
      "1    0.0\n",
      "2    1.0\n",
      "3    1.0\n",
      "4    0.0\n",
      "Name: cm, dtype: float64\n"
     ]
    }
   ],
   "source": [
    "Z_pre = reg.predict_proba(X)\n",
    "print(Z_pre[0:5]) # 5人ほどの結果を見てみる\n",
    "print('----')\n",
    "print(Z[0:5])"
   ]
  },
  {
   "cell_type": "markdown",
   "id": "extreme-martial",
   "metadata": {},
   "source": [
    "Zは２クラスなので，２列目が大きいとcmを見ている傾向であると予測される．"
   ]
  },
  {
   "cell_type": "code",
   "execution_count": null,
   "id": "positive-summit",
   "metadata": {},
   "outputs": [],
   "source": []
  },
  {
   "cell_type": "markdown",
   "id": "irish-graph",
   "metadata": {},
   "source": [
    "## 平均処置効果ATEを求める"
   ]
  },
  {
   "cell_type": "code",
   "execution_count": 13,
   "id": "residential-bones",
   "metadata": {
    "ExecuteTime": {
     "end_time": "2021-03-14T01:16:42.482473Z",
     "start_time": "2021-03-14T01:16:42.475320Z"
    }
   },
   "outputs": [
    {
     "name": "stdout",
     "output_type": "stream",
     "text": [
      "推定されるATE 8.847476810855458\n"
     ]
    }
   ],
   "source": [
    "ATE_i = Y/Z_pre[:, 1]*Z - Y/Z_pre[:, 0]*(1-Z)\n",
    "ATE = 1/len(Y)*ATE_i.sum()\n",
    "print('推定されるATE', ATE)"
   ]
  },
  {
   "cell_type": "code",
   "execution_count": null,
   "id": "efficient-purple",
   "metadata": {},
   "outputs": [],
   "source": []
  },
  {
   "cell_type": "code",
   "execution_count": null,
   "id": "crazy-lambda",
   "metadata": {},
   "outputs": [],
   "source": []
  }
 ],
 "metadata": {
  "kernelspec": {
   "display_name": "Python 3",
   "language": "python",
   "name": "python3"
  },
  "language_info": {
   "codemirror_mode": {
    "name": "ipython",
    "version": 3
   },
   "file_extension": ".py",
   "mimetype": "text/x-python",
   "name": "python",
   "nbconvert_exporter": "python",
   "pygments_lexer": "ipython3",
   "version": "3.9.1"
  },
  "toc": {
   "base_numbering": 1,
   "nav_menu": {},
   "number_sections": true,
   "sideBar": true,
   "skip_h1_title": false,
   "title_cell": "Table of Contents",
   "title_sidebar": "Contents",
   "toc_cell": false,
   "toc_position": {},
   "toc_section_display": true,
   "toc_window_display": true
  }
 },
 "nbformat": 4,
 "nbformat_minor": 5
}
